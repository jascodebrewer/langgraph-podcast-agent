{
  "nbformat": 4,
  "nbformat_minor": 0,
  "metadata": {
    "colab": {
      "provenance": []
    },
    "kernelspec": {
      "name": "python3",
      "display_name": "Python 3"
    },
    "language_info": {
      "name": "python"
    }
  },
  "cells": [
    {
      "cell_type": "markdown",
      "source": [
        "# Part 2: Building an Interactive Agent with a Human Feedback Loop\n",
        "\n",
        "Welcome to the advanced version of our Podcast Script Brewer! This notebook builds on the concepts from `01_foundational_script_agent.ipynb`, transforming our simple generator into a truly interactive AI partner that can improve its work based on feedback."
      ],
      "metadata": {
        "id": "hn4NzLqpqB1s"
      }
    },
    {
      "cell_type": "markdown",
      "source": [
        "### The Challenge: From a Simple Generator to a Persistent Collaborator\n",
        "\n",
        "Our first agent was a great start, but it was ephemeral. It ran once and then forgot everything. Real collaboration, however, requires **memory**. What if the script wasn't quite right? What if it missed a key fact, or the tone was off? We need an agent that can not only accept feedback but can be paused, resumed, and remember the entire history of our conversation.\n",
        "\n",
        "**The Problem Statement:** How can we build an AI agent that maintains a persistent state, allowing for a true, multi-turn collaborative process? How can we give it the intelligence to not only understand feedback, but to know when it needs to learn more to act on that feedback?\n",
        "\n",
        "### Our Workflow: The Self-Improving Research Assistant with Checkpointing\n",
        "\n",
        "To solve this, we're building a more sophisticated agent that uses **LangGraph's checkpointing feature** to save its memory after every step. This enables a robust, interactive workflow:\n",
        "\n",
        "1.  **Research & Draft:** The agent begins by performing initial research and writing the first draft.\n",
        "2.  **Pause & Persist:** Using a **MemorySaver checkpoint**, the agent's complete state is saved. The process is then interrupted, waiting for human input.\n",
        "3.  **Reflect & Plan:** When we provide feedback, the agent resumes from its saved state. It analyzes our feedback and its own knowledge to decide on a plan:\n",
        "    *   **Path A (Simple Revision):** If it has enough information, it plans a direct revision.\n",
        "    *   **Path B (Re-Research):** If the feedback introduces a new topic, it plans to perform targeted research.\n",
        "4.  **Act & Improve:** The agent executes its plan—either by researching and updating its knowledge base, or by directly revising the script. Its state is saved after each step.\n",
        "5.  **Repeat:** It presents the improved script and pauses again, its new state securely saved, ready for the next round of feedback.\n",
        "\n",
        "This turns our agent from a simple tool into a dynamic partner that truly remembers and learns with every interaction. Let's start building it!"
      ],
      "metadata": {
        "id": "l9Gu_INsp8ua"
      }
    },
    {
      "cell_type": "markdown",
      "source": [
        "> **Important Note for the Reader: We're Rebuilding Our Foundation**\n",
        "\n",
        "> While this notebook shares a conceptual foundation with the first, we have made **significant architectural upgrades** to our core components to support a truly interactive and intelligent agent. This is more than just adding a loop; it's a complete rebuild for a more complex purpose.\n",
        "\n",
        "> As you go through the initial steps, pay close attention to these key enhancements:\n",
        "\n",
        "> *   **A More Robust `PodcastState`:** Our agent's \"memory\" is now designed to handle a persistent conversation, storing feedback history and temporary research findings.\n",
        "\n",
        "> *   **A Smarter `researcher_node`:** This node is no longer just a starting point. It's a dynamic tool that the agent can call upon *at any time* to perform targeted research based on your specific feedback.\n",
        "\n",
        "> *   **A More Versatile `writer_node`:** This node has evolved. It can now act as both a creative **drafter** (generating a script from key points) and a careful **editor** (refining an existing script based on feedback), depending on the context.\n",
        "\n",
        "> It is essential to review and run these upgraded foundational cells. They are the building blocks that make the advanced feedback loops, which begin at **Step 4**, possible."
      ],
      "metadata": {
        "id": "vXMV9WnCWA-O"
      }
    },
    {
      "cell_type": "markdown",
      "source": [
        "# Step 1: Setup and Initialization\n",
        "\n",
        "First, let's import all the necessary libraries and configure our API keys. This step involves setting up our Large Language Model (LLM) and the Tavily client for web searches."
      ],
      "metadata": {
        "id": "Bl1SVt9FWhMB"
      }
    },
    {
      "cell_type": "code",
      "source": [
        "!pip install langchain_google_genai"
      ],
      "metadata": {
        "id": "nSyPEYaok3bW",
        "colab": {
          "base_uri": "https://localhost:8080/"
        },
        "outputId": "48bd14bc-7baa-45c6-ea91-cddcc1f3b4e1"
      },
      "execution_count": 28,
      "outputs": [
        {
          "output_type": "stream",
          "name": "stdout",
          "text": [
            "Requirement already satisfied: langchain_google_genai in /usr/local/lib/python3.12/dist-packages (2.1.12)\n",
            "Requirement already satisfied: langchain-core>=0.3.75 in /usr/local/lib/python3.12/dist-packages (from langchain_google_genai) (0.3.76)\n",
            "Requirement already satisfied: google-ai-generativelanguage<1,>=0.7 in /usr/local/lib/python3.12/dist-packages (from langchain_google_genai) (0.7.0)\n",
            "Requirement already satisfied: pydantic<3,>=2 in /usr/local/lib/python3.12/dist-packages (from langchain_google_genai) (2.11.9)\n",
            "Requirement already satisfied: filetype<2,>=1.2 in /usr/local/lib/python3.12/dist-packages (from langchain_google_genai) (1.2.0)\n",
            "Requirement already satisfied: google-api-core!=2.0.*,!=2.1.*,!=2.10.*,!=2.2.*,!=2.3.*,!=2.4.*,!=2.5.*,!=2.6.*,!=2.7.*,!=2.8.*,!=2.9.*,<3.0.0,>=1.34.1 in /usr/local/lib/python3.12/dist-packages (from google-api-core[grpc]!=2.0.*,!=2.1.*,!=2.10.*,!=2.2.*,!=2.3.*,!=2.4.*,!=2.5.*,!=2.6.*,!=2.7.*,!=2.8.*,!=2.9.*,<3.0.0,>=1.34.1->google-ai-generativelanguage<1,>=0.7->langchain_google_genai) (2.25.1)\n",
            "Requirement already satisfied: google-auth!=2.24.0,!=2.25.0,<3.0.0,>=2.14.1 in /usr/local/lib/python3.12/dist-packages (from google-ai-generativelanguage<1,>=0.7->langchain_google_genai) (2.38.0)\n",
            "Requirement already satisfied: proto-plus<2.0.0,>=1.22.3 in /usr/local/lib/python3.12/dist-packages (from google-ai-generativelanguage<1,>=0.7->langchain_google_genai) (1.26.1)\n",
            "Requirement already satisfied: protobuf!=4.21.0,!=4.21.1,!=4.21.2,!=4.21.3,!=4.21.4,!=4.21.5,<7.0.0,>=3.20.2 in /usr/local/lib/python3.12/dist-packages (from google-ai-generativelanguage<1,>=0.7->langchain_google_genai) (5.29.5)\n",
            "Requirement already satisfied: langsmith>=0.3.45 in /usr/local/lib/python3.12/dist-packages (from langchain-core>=0.3.75->langchain_google_genai) (0.4.28)\n",
            "Requirement already satisfied: tenacity!=8.4.0,<10.0.0,>=8.1.0 in /usr/local/lib/python3.12/dist-packages (from langchain-core>=0.3.75->langchain_google_genai) (8.5.0)\n",
            "Requirement already satisfied: jsonpatch<2.0,>=1.33 in /usr/local/lib/python3.12/dist-packages (from langchain-core>=0.3.75->langchain_google_genai) (1.33)\n",
            "Requirement already satisfied: PyYAML>=5.3 in /usr/local/lib/python3.12/dist-packages (from langchain-core>=0.3.75->langchain_google_genai) (6.0.2)\n",
            "Requirement already satisfied: typing-extensions>=4.7 in /usr/local/lib/python3.12/dist-packages (from langchain-core>=0.3.75->langchain_google_genai) (4.15.0)\n",
            "Requirement already satisfied: packaging>=23.2 in /usr/local/lib/python3.12/dist-packages (from langchain-core>=0.3.75->langchain_google_genai) (25.0)\n",
            "Requirement already satisfied: annotated-types>=0.6.0 in /usr/local/lib/python3.12/dist-packages (from pydantic<3,>=2->langchain_google_genai) (0.7.0)\n",
            "Requirement already satisfied: pydantic-core==2.33.2 in /usr/local/lib/python3.12/dist-packages (from pydantic<3,>=2->langchain_google_genai) (2.33.2)\n",
            "Requirement already satisfied: typing-inspection>=0.4.0 in /usr/local/lib/python3.12/dist-packages (from pydantic<3,>=2->langchain_google_genai) (0.4.1)\n",
            "Requirement already satisfied: googleapis-common-protos<2.0.0,>=1.56.2 in /usr/local/lib/python3.12/dist-packages (from google-api-core!=2.0.*,!=2.1.*,!=2.10.*,!=2.2.*,!=2.3.*,!=2.4.*,!=2.5.*,!=2.6.*,!=2.7.*,!=2.8.*,!=2.9.*,<3.0.0,>=1.34.1->google-api-core[grpc]!=2.0.*,!=2.1.*,!=2.10.*,!=2.2.*,!=2.3.*,!=2.4.*,!=2.5.*,!=2.6.*,!=2.7.*,!=2.8.*,!=2.9.*,<3.0.0,>=1.34.1->google-ai-generativelanguage<1,>=0.7->langchain_google_genai) (1.70.0)\n",
            "Requirement already satisfied: requests<3.0.0,>=2.18.0 in /usr/local/lib/python3.12/dist-packages (from google-api-core!=2.0.*,!=2.1.*,!=2.10.*,!=2.2.*,!=2.3.*,!=2.4.*,!=2.5.*,!=2.6.*,!=2.7.*,!=2.8.*,!=2.9.*,<3.0.0,>=1.34.1->google-api-core[grpc]!=2.0.*,!=2.1.*,!=2.10.*,!=2.2.*,!=2.3.*,!=2.4.*,!=2.5.*,!=2.6.*,!=2.7.*,!=2.8.*,!=2.9.*,<3.0.0,>=1.34.1->google-ai-generativelanguage<1,>=0.7->langchain_google_genai) (2.32.4)\n",
            "Requirement already satisfied: grpcio<2.0.0,>=1.33.2 in /usr/local/lib/python3.12/dist-packages (from google-api-core[grpc]!=2.0.*,!=2.1.*,!=2.10.*,!=2.2.*,!=2.3.*,!=2.4.*,!=2.5.*,!=2.6.*,!=2.7.*,!=2.8.*,!=2.9.*,<3.0.0,>=1.34.1->google-ai-generativelanguage<1,>=0.7->langchain_google_genai) (1.75.0)\n",
            "Requirement already satisfied: grpcio-status<2.0.0,>=1.33.2 in /usr/local/lib/python3.12/dist-packages (from google-api-core[grpc]!=2.0.*,!=2.1.*,!=2.10.*,!=2.2.*,!=2.3.*,!=2.4.*,!=2.5.*,!=2.6.*,!=2.7.*,!=2.8.*,!=2.9.*,<3.0.0,>=1.34.1->google-ai-generativelanguage<1,>=0.7->langchain_google_genai) (1.71.2)\n",
            "Requirement already satisfied: cachetools<6.0,>=2.0.0 in /usr/local/lib/python3.12/dist-packages (from google-auth!=2.24.0,!=2.25.0,<3.0.0,>=2.14.1->google-ai-generativelanguage<1,>=0.7->langchain_google_genai) (5.5.2)\n",
            "Requirement already satisfied: pyasn1-modules>=0.2.1 in /usr/local/lib/python3.12/dist-packages (from google-auth!=2.24.0,!=2.25.0,<3.0.0,>=2.14.1->google-ai-generativelanguage<1,>=0.7->langchain_google_genai) (0.4.2)\n",
            "Requirement already satisfied: rsa<5,>=3.1.4 in /usr/local/lib/python3.12/dist-packages (from google-auth!=2.24.0,!=2.25.0,<3.0.0,>=2.14.1->google-ai-generativelanguage<1,>=0.7->langchain_google_genai) (4.9.1)\n",
            "Requirement already satisfied: jsonpointer>=1.9 in /usr/local/lib/python3.12/dist-packages (from jsonpatch<2.0,>=1.33->langchain-core>=0.3.75->langchain_google_genai) (3.0.0)\n",
            "Requirement already satisfied: httpx<1,>=0.23.0 in /usr/local/lib/python3.12/dist-packages (from langsmith>=0.3.45->langchain-core>=0.3.75->langchain_google_genai) (0.28.1)\n",
            "Requirement already satisfied: orjson>=3.9.14 in /usr/local/lib/python3.12/dist-packages (from langsmith>=0.3.45->langchain-core>=0.3.75->langchain_google_genai) (3.11.3)\n",
            "Requirement already satisfied: requests-toolbelt>=1.0.0 in /usr/local/lib/python3.12/dist-packages (from langsmith>=0.3.45->langchain-core>=0.3.75->langchain_google_genai) (1.0.0)\n",
            "Requirement already satisfied: zstandard>=0.23.0 in /usr/local/lib/python3.12/dist-packages (from langsmith>=0.3.45->langchain-core>=0.3.75->langchain_google_genai) (0.25.0)\n",
            "Requirement already satisfied: anyio in /usr/local/lib/python3.12/dist-packages (from httpx<1,>=0.23.0->langsmith>=0.3.45->langchain-core>=0.3.75->langchain_google_genai) (4.10.0)\n",
            "Requirement already satisfied: certifi in /usr/local/lib/python3.12/dist-packages (from httpx<1,>=0.23.0->langsmith>=0.3.45->langchain-core>=0.3.75->langchain_google_genai) (2025.8.3)\n",
            "Requirement already satisfied: httpcore==1.* in /usr/local/lib/python3.12/dist-packages (from httpx<1,>=0.23.0->langsmith>=0.3.45->langchain-core>=0.3.75->langchain_google_genai) (1.0.9)\n",
            "Requirement already satisfied: idna in /usr/local/lib/python3.12/dist-packages (from httpx<1,>=0.23.0->langsmith>=0.3.45->langchain-core>=0.3.75->langchain_google_genai) (3.10)\n",
            "Requirement already satisfied: h11>=0.16 in /usr/local/lib/python3.12/dist-packages (from httpcore==1.*->httpx<1,>=0.23.0->langsmith>=0.3.45->langchain-core>=0.3.75->langchain_google_genai) (0.16.0)\n",
            "Requirement already satisfied: pyasn1<0.7.0,>=0.6.1 in /usr/local/lib/python3.12/dist-packages (from pyasn1-modules>=0.2.1->google-auth!=2.24.0,!=2.25.0,<3.0.0,>=2.14.1->google-ai-generativelanguage<1,>=0.7->langchain_google_genai) (0.6.1)\n",
            "Requirement already satisfied: charset_normalizer<4,>=2 in /usr/local/lib/python3.12/dist-packages (from requests<3.0.0,>=2.18.0->google-api-core!=2.0.*,!=2.1.*,!=2.10.*,!=2.2.*,!=2.3.*,!=2.4.*,!=2.5.*,!=2.6.*,!=2.7.*,!=2.8.*,!=2.9.*,<3.0.0,>=1.34.1->google-api-core[grpc]!=2.0.*,!=2.1.*,!=2.10.*,!=2.2.*,!=2.3.*,!=2.4.*,!=2.5.*,!=2.6.*,!=2.7.*,!=2.8.*,!=2.9.*,<3.0.0,>=1.34.1->google-ai-generativelanguage<1,>=0.7->langchain_google_genai) (3.4.3)\n",
            "Requirement already satisfied: urllib3<3,>=1.21.1 in /usr/local/lib/python3.12/dist-packages (from requests<3.0.0,>=2.18.0->google-api-core!=2.0.*,!=2.1.*,!=2.10.*,!=2.2.*,!=2.3.*,!=2.4.*,!=2.5.*,!=2.6.*,!=2.7.*,!=2.8.*,!=2.9.*,<3.0.0,>=1.34.1->google-api-core[grpc]!=2.0.*,!=2.1.*,!=2.10.*,!=2.2.*,!=2.3.*,!=2.4.*,!=2.5.*,!=2.6.*,!=2.7.*,!=2.8.*,!=2.9.*,<3.0.0,>=1.34.1->google-ai-generativelanguage<1,>=0.7->langchain_google_genai) (2.5.0)\n",
            "Requirement already satisfied: sniffio>=1.1 in /usr/local/lib/python3.12/dist-packages (from anyio->httpx<1,>=0.23.0->langsmith>=0.3.45->langchain-core>=0.3.75->langchain_google_genai) (1.3.1)\n"
          ]
        }
      ]
    },
    {
      "cell_type": "code",
      "source": [
        "!pip install tavily-python"
      ],
      "metadata": {
        "colab": {
          "base_uri": "https://localhost:8080/"
        },
        "collapsed": true,
        "id": "s8y1GAdhlH6d",
        "outputId": "a279e1c3-0d48-413b-aaba-b1b6afd12db8"
      },
      "execution_count": 29,
      "outputs": [
        {
          "output_type": "stream",
          "name": "stdout",
          "text": [
            "Requirement already satisfied: tavily-python in /usr/local/lib/python3.12/dist-packages (0.7.12)\n",
            "Requirement already satisfied: requests in /usr/local/lib/python3.12/dist-packages (from tavily-python) (2.32.4)\n",
            "Requirement already satisfied: tiktoken>=0.5.1 in /usr/local/lib/python3.12/dist-packages (from tavily-python) (0.11.0)\n",
            "Requirement already satisfied: httpx in /usr/local/lib/python3.12/dist-packages (from tavily-python) (0.28.1)\n",
            "Requirement already satisfied: regex>=2022.1.18 in /usr/local/lib/python3.12/dist-packages (from tiktoken>=0.5.1->tavily-python) (2024.11.6)\n",
            "Requirement already satisfied: charset_normalizer<4,>=2 in /usr/local/lib/python3.12/dist-packages (from requests->tavily-python) (3.4.3)\n",
            "Requirement already satisfied: idna<4,>=2.5 in /usr/local/lib/python3.12/dist-packages (from requests->tavily-python) (3.10)\n",
            "Requirement already satisfied: urllib3<3,>=1.21.1 in /usr/local/lib/python3.12/dist-packages (from requests->tavily-python) (2.5.0)\n",
            "Requirement already satisfied: certifi>=2017.4.17 in /usr/local/lib/python3.12/dist-packages (from requests->tavily-python) (2025.8.3)\n",
            "Requirement already satisfied: anyio in /usr/local/lib/python3.12/dist-packages (from httpx->tavily-python) (4.10.0)\n",
            "Requirement already satisfied: httpcore==1.* in /usr/local/lib/python3.12/dist-packages (from httpx->tavily-python) (1.0.9)\n",
            "Requirement already satisfied: h11>=0.16 in /usr/local/lib/python3.12/dist-packages (from httpcore==1.*->httpx->tavily-python) (0.16.0)\n",
            "Requirement already satisfied: sniffio>=1.1 in /usr/local/lib/python3.12/dist-packages (from anyio->httpx->tavily-python) (1.3.1)\n",
            "Requirement already satisfied: typing_extensions>=4.5 in /usr/local/lib/python3.12/dist-packages (from anyio->httpx->tavily-python) (4.15.0)\n"
          ]
        }
      ]
    },
    {
      "cell_type": "code",
      "source": [
        "!pip install langchain"
      ],
      "metadata": {
        "colab": {
          "base_uri": "https://localhost:8080/"
        },
        "id": "XgqmLc74ys89",
        "outputId": "516d670f-5a88-4546-c6be-462c5d2ff77a"
      },
      "execution_count": 30,
      "outputs": [
        {
          "output_type": "stream",
          "name": "stdout",
          "text": [
            "Requirement already satisfied: langchain in /usr/local/lib/python3.12/dist-packages (0.3.27)\n",
            "Requirement already satisfied: langchain-core<1.0.0,>=0.3.72 in /usr/local/lib/python3.12/dist-packages (from langchain) (0.3.76)\n",
            "Requirement already satisfied: langchain-text-splitters<1.0.0,>=0.3.9 in /usr/local/lib/python3.12/dist-packages (from langchain) (0.3.11)\n",
            "Requirement already satisfied: langsmith>=0.1.17 in /usr/local/lib/python3.12/dist-packages (from langchain) (0.4.28)\n",
            "Requirement already satisfied: pydantic<3.0.0,>=2.7.4 in /usr/local/lib/python3.12/dist-packages (from langchain) (2.11.9)\n",
            "Requirement already satisfied: SQLAlchemy<3,>=1.4 in /usr/local/lib/python3.12/dist-packages (from langchain) (2.0.43)\n",
            "Requirement already satisfied: requests<3,>=2 in /usr/local/lib/python3.12/dist-packages (from langchain) (2.32.4)\n",
            "Requirement already satisfied: PyYAML>=5.3 in /usr/local/lib/python3.12/dist-packages (from langchain) (6.0.2)\n",
            "Requirement already satisfied: tenacity!=8.4.0,<10.0.0,>=8.1.0 in /usr/local/lib/python3.12/dist-packages (from langchain-core<1.0.0,>=0.3.72->langchain) (8.5.0)\n",
            "Requirement already satisfied: jsonpatch<2.0,>=1.33 in /usr/local/lib/python3.12/dist-packages (from langchain-core<1.0.0,>=0.3.72->langchain) (1.33)\n",
            "Requirement already satisfied: typing-extensions>=4.7 in /usr/local/lib/python3.12/dist-packages (from langchain-core<1.0.0,>=0.3.72->langchain) (4.15.0)\n",
            "Requirement already satisfied: packaging>=23.2 in /usr/local/lib/python3.12/dist-packages (from langchain-core<1.0.0,>=0.3.72->langchain) (25.0)\n",
            "Requirement already satisfied: httpx<1,>=0.23.0 in /usr/local/lib/python3.12/dist-packages (from langsmith>=0.1.17->langchain) (0.28.1)\n",
            "Requirement already satisfied: orjson>=3.9.14 in /usr/local/lib/python3.12/dist-packages (from langsmith>=0.1.17->langchain) (3.11.3)\n",
            "Requirement already satisfied: requests-toolbelt>=1.0.0 in /usr/local/lib/python3.12/dist-packages (from langsmith>=0.1.17->langchain) (1.0.0)\n",
            "Requirement already satisfied: zstandard>=0.23.0 in /usr/local/lib/python3.12/dist-packages (from langsmith>=0.1.17->langchain) (0.25.0)\n",
            "Requirement already satisfied: annotated-types>=0.6.0 in /usr/local/lib/python3.12/dist-packages (from pydantic<3.0.0,>=2.7.4->langchain) (0.7.0)\n",
            "Requirement already satisfied: pydantic-core==2.33.2 in /usr/local/lib/python3.12/dist-packages (from pydantic<3.0.0,>=2.7.4->langchain) (2.33.2)\n",
            "Requirement already satisfied: typing-inspection>=0.4.0 in /usr/local/lib/python3.12/dist-packages (from pydantic<3.0.0,>=2.7.4->langchain) (0.4.1)\n",
            "Requirement already satisfied: charset_normalizer<4,>=2 in /usr/local/lib/python3.12/dist-packages (from requests<3,>=2->langchain) (3.4.3)\n",
            "Requirement already satisfied: idna<4,>=2.5 in /usr/local/lib/python3.12/dist-packages (from requests<3,>=2->langchain) (3.10)\n",
            "Requirement already satisfied: urllib3<3,>=1.21.1 in /usr/local/lib/python3.12/dist-packages (from requests<3,>=2->langchain) (2.5.0)\n",
            "Requirement already satisfied: certifi>=2017.4.17 in /usr/local/lib/python3.12/dist-packages (from requests<3,>=2->langchain) (2025.8.3)\n",
            "Requirement already satisfied: greenlet>=1 in /usr/local/lib/python3.12/dist-packages (from SQLAlchemy<3,>=1.4->langchain) (3.2.4)\n",
            "Requirement already satisfied: anyio in /usr/local/lib/python3.12/dist-packages (from httpx<1,>=0.23.0->langsmith>=0.1.17->langchain) (4.10.0)\n",
            "Requirement already satisfied: httpcore==1.* in /usr/local/lib/python3.12/dist-packages (from httpx<1,>=0.23.0->langsmith>=0.1.17->langchain) (1.0.9)\n",
            "Requirement already satisfied: h11>=0.16 in /usr/local/lib/python3.12/dist-packages (from httpcore==1.*->httpx<1,>=0.23.0->langsmith>=0.1.17->langchain) (0.16.0)\n",
            "Requirement already satisfied: jsonpointer>=1.9 in /usr/local/lib/python3.12/dist-packages (from jsonpatch<2.0,>=1.33->langchain-core<1.0.0,>=0.3.72->langchain) (3.0.0)\n",
            "Requirement already satisfied: sniffio>=1.1 in /usr/local/lib/python3.12/dist-packages (from anyio->httpx<1,>=0.23.0->langsmith>=0.1.17->langchain) (1.3.1)\n"
          ]
        }
      ]
    },
    {
      "cell_type": "code",
      "source": [
        "!pip install langgraph"
      ],
      "metadata": {
        "colab": {
          "base_uri": "https://localhost:8080/"
        },
        "id": "FAmUchFhkoL6",
        "outputId": "f064613a-c67b-49da-a575-dcb1cb4576bb"
      },
      "execution_count": 31,
      "outputs": [
        {
          "output_type": "stream",
          "name": "stdout",
          "text": [
            "Requirement already satisfied: langgraph in /usr/local/lib/python3.12/dist-packages (0.6.8)\n",
            "Requirement already satisfied: langchain-core>=0.1 in /usr/local/lib/python3.12/dist-packages (from langgraph) (0.3.76)\n",
            "Requirement already satisfied: langgraph-checkpoint<3.0.0,>=2.1.0 in /usr/local/lib/python3.12/dist-packages (from langgraph) (2.1.1)\n",
            "Requirement already satisfied: langgraph-prebuilt<0.7.0,>=0.6.0 in /usr/local/lib/python3.12/dist-packages (from langgraph) (0.6.4)\n",
            "Requirement already satisfied: langgraph-sdk<0.3.0,>=0.2.2 in /usr/local/lib/python3.12/dist-packages (from langgraph) (0.2.9)\n",
            "Requirement already satisfied: pydantic>=2.7.4 in /usr/local/lib/python3.12/dist-packages (from langgraph) (2.11.9)\n",
            "Requirement already satisfied: xxhash>=3.5.0 in /usr/local/lib/python3.12/dist-packages (from langgraph) (3.5.0)\n",
            "Requirement already satisfied: langsmith>=0.3.45 in /usr/local/lib/python3.12/dist-packages (from langchain-core>=0.1->langgraph) (0.4.28)\n",
            "Requirement already satisfied: tenacity!=8.4.0,<10.0.0,>=8.1.0 in /usr/local/lib/python3.12/dist-packages (from langchain-core>=0.1->langgraph) (8.5.0)\n",
            "Requirement already satisfied: jsonpatch<2.0,>=1.33 in /usr/local/lib/python3.12/dist-packages (from langchain-core>=0.1->langgraph) (1.33)\n",
            "Requirement already satisfied: PyYAML>=5.3 in /usr/local/lib/python3.12/dist-packages (from langchain-core>=0.1->langgraph) (6.0.2)\n",
            "Requirement already satisfied: typing-extensions>=4.7 in /usr/local/lib/python3.12/dist-packages (from langchain-core>=0.1->langgraph) (4.15.0)\n",
            "Requirement already satisfied: packaging>=23.2 in /usr/local/lib/python3.12/dist-packages (from langchain-core>=0.1->langgraph) (25.0)\n",
            "Requirement already satisfied: ormsgpack>=1.10.0 in /usr/local/lib/python3.12/dist-packages (from langgraph-checkpoint<3.0.0,>=2.1.0->langgraph) (1.10.0)\n",
            "Requirement already satisfied: httpx>=0.25.2 in /usr/local/lib/python3.12/dist-packages (from langgraph-sdk<0.3.0,>=0.2.2->langgraph) (0.28.1)\n",
            "Requirement already satisfied: orjson>=3.10.1 in /usr/local/lib/python3.12/dist-packages (from langgraph-sdk<0.3.0,>=0.2.2->langgraph) (3.11.3)\n",
            "Requirement already satisfied: annotated-types>=0.6.0 in /usr/local/lib/python3.12/dist-packages (from pydantic>=2.7.4->langgraph) (0.7.0)\n",
            "Requirement already satisfied: pydantic-core==2.33.2 in /usr/local/lib/python3.12/dist-packages (from pydantic>=2.7.4->langgraph) (2.33.2)\n",
            "Requirement already satisfied: typing-inspection>=0.4.0 in /usr/local/lib/python3.12/dist-packages (from pydantic>=2.7.4->langgraph) (0.4.1)\n",
            "Requirement already satisfied: anyio in /usr/local/lib/python3.12/dist-packages (from httpx>=0.25.2->langgraph-sdk<0.3.0,>=0.2.2->langgraph) (4.10.0)\n",
            "Requirement already satisfied: certifi in /usr/local/lib/python3.12/dist-packages (from httpx>=0.25.2->langgraph-sdk<0.3.0,>=0.2.2->langgraph) (2025.8.3)\n",
            "Requirement already satisfied: httpcore==1.* in /usr/local/lib/python3.12/dist-packages (from httpx>=0.25.2->langgraph-sdk<0.3.0,>=0.2.2->langgraph) (1.0.9)\n",
            "Requirement already satisfied: idna in /usr/local/lib/python3.12/dist-packages (from httpx>=0.25.2->langgraph-sdk<0.3.0,>=0.2.2->langgraph) (3.10)\n",
            "Requirement already satisfied: h11>=0.16 in /usr/local/lib/python3.12/dist-packages (from httpcore==1.*->httpx>=0.25.2->langgraph-sdk<0.3.0,>=0.2.2->langgraph) (0.16.0)\n",
            "Requirement already satisfied: jsonpointer>=1.9 in /usr/local/lib/python3.12/dist-packages (from jsonpatch<2.0,>=1.33->langchain-core>=0.1->langgraph) (3.0.0)\n",
            "Requirement already satisfied: requests-toolbelt>=1.0.0 in /usr/local/lib/python3.12/dist-packages (from langsmith>=0.3.45->langchain-core>=0.1->langgraph) (1.0.0)\n",
            "Requirement already satisfied: requests>=2.0.0 in /usr/local/lib/python3.12/dist-packages (from langsmith>=0.3.45->langchain-core>=0.1->langgraph) (2.32.4)\n",
            "Requirement already satisfied: zstandard>=0.23.0 in /usr/local/lib/python3.12/dist-packages (from langsmith>=0.3.45->langchain-core>=0.1->langgraph) (0.25.0)\n",
            "Requirement already satisfied: charset_normalizer<4,>=2 in /usr/local/lib/python3.12/dist-packages (from requests>=2.0.0->langsmith>=0.3.45->langchain-core>=0.1->langgraph) (3.4.3)\n",
            "Requirement already satisfied: urllib3<3,>=1.21.1 in /usr/local/lib/python3.12/dist-packages (from requests>=2.0.0->langsmith>=0.3.45->langchain-core>=0.1->langgraph) (2.5.0)\n",
            "Requirement already satisfied: sniffio>=1.1 in /usr/local/lib/python3.12/dist-packages (from anyio->httpx>=0.25.2->langgraph-sdk<0.3.0,>=0.2.2->langgraph) (1.3.1)\n"
          ]
        }
      ]
    },
    {
      "cell_type": "code",
      "source": [
        "from google.colab import userdata\n",
        "\n",
        "# Retrieve the secret key\n",
        "gemini_api_key=userdata.get(\"GEMINI_API_KEY\")"
      ],
      "metadata": {
        "id": "gQ4hvdg9kmLn"
      },
      "execution_count": 32,
      "outputs": []
    },
    {
      "cell_type": "code",
      "execution_count": 33,
      "metadata": {
        "id": "Cix9WAftiinc"
      },
      "outputs": [],
      "source": [
        "from langchain_google_genai import ChatGoogleGenerativeAI\n",
        "\n",
        "llm = ChatGoogleGenerativeAI(model='gemini-2.5-flash-lite', temperature=0.2, api_key=gemini_api_key)"
      ]
    },
    {
      "cell_type": "markdown",
      "source": [
        "# Step 2: Defining the Agent's \"Memory\" (The State)\n",
        "\n",
        "Everything in LangGraph revolves around a central \"state\" object. This object is passed between the nodes of our graph, and each node can read from or write to it.\n",
        "\n",
        "We define the structure of our state using a `TypedDict`. This acts as a schema or a blueprint for our agent's memory, ensuring that data flows correctly through the system. For this advanced agent, we need fields to track not only the content (`topic`, `script`) but also the feedback loop (`feedback`)."
      ],
      "metadata": {
        "id": "Tt7yy8OQWrXD"
      }
    },
    {
      "cell_type": "code",
      "source": [
        "from typing import TypedDict, List\n",
        "\n",
        "class PodcastState(TypedDict):\n",
        "  # inputs\n",
        "  topic: str\n",
        "  podcast_name: str | None\n",
        "\n",
        "  # Fields populated by the agent's work\n",
        "  research_material: str | None\n",
        "  key_points: List[str]| None\n",
        "  script: str| None\n",
        "\n",
        "  # Temporary field for the research loop\n",
        "  new_research: str | None\n",
        "\n",
        "  # Fields for the feedback loop, added by the user\n",
        "  feedback_history: List[str]\n"
      ],
      "metadata": {
        "id": "jofJ2DppkuFG"
      },
      "execution_count": 34,
      "outputs": []
    },
    {
      "cell_type": "code",
      "source": [
        "# Tavily client for web searches\n",
        "from tavily import TavilyClient\n",
        "tavily_api_key=userdata.get(\"TAVILY_KEY\")\n",
        "\n",
        "# Just an example to show its working\n",
        "tavily_client = TavilyClient(api_key=tavily_api_key)\n",
        "response = tavily_client.search(\"Who is Leo Messi?\")\n",
        "\n",
        "print(response)"
      ],
      "metadata": {
        "colab": {
          "base_uri": "https://localhost:8080/"
        },
        "id": "b2qNH_BvmiUq",
        "outputId": "f7d53bfa-a556-4034-ac65-fe1799d113a6"
      },
      "execution_count": 35,
      "outputs": [
        {
          "output_type": "stream",
          "name": "stdout",
          "text": [
            "{'query': 'Who is Leo Messi?', 'follow_up_questions': None, 'answer': None, 'images': [], 'results': [{'url': 'https://en.wikipedia.org/wiki/Lionel_Messi', 'title': 'Lionel Messi', 'content': 'Lionel Andrés \"Leo\" Messi isan Argentine professional footballerwho plays as a forward for and captains both Major League Soccer club Inter Miami and the', 'score': 0.91760606, 'raw_content': None}, {'url': 'https://www.imdb.com/name/nm2177779/', 'title': 'Lionel Messi', 'content': \"# Lionel Messi Lionel Messi is a football player from Argentina who plays for Inter Miami. He has won the Ballon D'Or, the annual award given to the best player in the world, 8 times, 2022 FIFA World Cup winner and an Olympic gold medal winner in 2008. - View contact info at IMDbPro * Messi * Lionel Messi * Lionel Messi + Lionel Messi + Lionel Messi + Lionel Messi + Messi + Messi + Messi + Lionel Messi + Lionel Messi + Messi * How old is Lionel Messi? * When was Lionel Messi born? * Where was Lionel Messi born? Lionel Messi Messi Keep track of how much of Lionel Messi’s work you have rated. Lionel Messi\", 'score': 0.75268626, 'raw_content': None}, {'url': 'https://www.transfermarkt.us/lionel-messi/profil/spieler/28003', 'title': 'Lionel Messi - Player profile 2025 | Transfermarkt', 'content': 'Name in home country:Lionel Andrés Messi Cuccitini Date of birth/Age:[Jun 24, 1987 (38)](https://www.transfermarkt.us/aktuell/waspassiertheute/aktuell/new/datum/1987-06-24)Place of birth:Rosario![Image 29: Argentina](https://tmssl.akamaized.net//images/flagge/tiny/9.png?lm=1520611569)Height:1,70 m Citizenship:![Image 30: Argentina](https://tmssl.akamaized.net//images/flagge/tiny/9.png?lm=1520611569)Argentina ![Image 31: Spain](https://tmssl.akamaized.net//images/flagge/tiny/157.png?lm=1520611569)Spain Position: Attack - Right Winger Foot:left Player agent:Relatives Current club: [![Image 32: Inter Miami CF](https://tmssl.akamaized.net//images/wappen/small/69261.png?lm=1573561237%201x)](https://www.transfermarkt.us/inter-miami-cf/startseite/verein/69261)[Inter Miami CF](https://www.transfermarkt.us/inter-miami-cf/startseite/verein/69261 \"Inter Miami CF\")Joined: Jul 15, 2023 Contract expires:Dec 31, 2025 Outfitter:adidas Social-Media: ![Image 66: Lionel Messi, FC Barcelona, 2020/2021](https://tmssl.akamaized.net/images/foto/galerie/lionel-messi-fc-barcelona-2020-2021-1615872755-58808.jpg) ![Image 70: Lionel Messi FC Barcelona](https://tmssl.akamaized.net/images/foto/galerie/lionel-messi-fc-barcelona-1548770350-20204.jpg) ![Image 71: Lionel Messi Barcelona](https://tmssl.akamaized.net/images/foto/galerie/messi-1570628108-26423.jpg) ![Image 72: Lionel Messi, FC Barcelona](https://tmssl.akamaized.net/images/foto/galerie/lionel-messi-fc-barcelona-1567748810-25426.jpg) ![Image 73: Lionel Messi Transfermarkt-Spieler der LaLiga-Saison 2018/19](https://tmssl.akamaized.net/images/foto/galerie/lionel-messi-transfermarkt-spieler-der-laliga-saison-2018-19-1566816872-25004.jpg) ![Image 74: Lionel Messi, FC Barcelona](https://tmssl.akamaized.net/images/foto/galerie/lionel-messi-fc-barcelona-1610004379-54096.jpg) ![Image 75: Lionel Messi, FC Barcelona 2020/2021](https://tmssl.akamaized.net/images/foto/galerie/lionel-messi-fc-barcelona-2020-2021-1608727492-53594.jpg) [![Image 90: Lionel Messi](https://img.a.transfermarkt.technology/portrait/medium/28003-1740766555.jpg?lm=1) Lionel Messi ![Image 91: Inter Miami CF](https://tmssl.akamaized.net//images/wappen/kaderquad/69261.png?lm=1573561237)](https://www.transfermarkt.us/beliebtheit/speichernSpieler?spieler_id_gewinner=28003&spieler_id_verlierer=1064191&kontinent=0&land=0&wettbewerb=MLS1&verein=69261&position=0&marktwert=0&spieler_id_1=28003&lieblingsverein=0)![Image 92: versus](https://tmssl.akamaized.net//images/beliebtheit/versus.png)[![Image 93: Tomás Avilés](https://img.a.transfermarkt.technology/portrait/medium/1064191-1740774932.jpg?lm=1) Tomás Avilés ![Image 94: Inter Miami CF](https://tmssl.akamaized.net//images/wappen/kaderquad/69261.png?lm=1573561237)](https://www.transfermarkt.us/beliebtheit/speichernSpieler?spieler_id_gewinner=1064191&spieler_id_verlierer=28003&kontinent=0&land=0&wettbewerb=MLS1&verein=69261&position=0&marktwert=0&spieler_id_1=28003&lieblingsverein=0)', 'score': 0.643173, 'raw_content': None}, {'url': 'https://www.olympics.com/en/athletes/lionel-messi', 'title': 'Lionel Messi | Biography, Competitions, Wins and Medals', 'content': \"Born in Rosario, Argentina, in 1987, **Lionel Messi** is widely regarded as one of the greatest football players of all time, and his illustrious career proves why. He was instrumental in helping them win the **FIFA World Cup 2022** in Qatar, where he also won the **Golden Ball**, awarded to the competition's best player. He was also part of the Argentina under-23 team that won **Olympic gold** at the Beijing 2008 Games, which remains one of his most treasured career highlights. [Football](https://www.olympics.com/en/news/erling-haaland-how-does-the-striker-compare-to-messi-ronaldo-mbappe) [Lionel MESSI](https://www.olympics.com/en/news/fifa-world-cup-2022-lionel-messi-records) ### FIFA World Cup 2022: What records did Lionel Messi break? [Lionel MESSI](https://www.olympics.com/en/news/lionel-messi-fifa-world-cup-biggest-disappointments) ### Lionel Messi at FIFA World Cup: Biggest disappointments of Argentina superstar ## Olympic Results\", 'score': 0.6021791, 'raw_content': None}, {'url': 'https://www.britannica.com/biography/Lionel-Messi', 'title': \"Lionel Messi | Biography, Trophies, Records, Ballon d'Or ...\", 'content': 'Ask the Chatbot   Games & Quizzes  History & Society  Science & Tech  Biographies  Animals & Nature  Geography & Travel  Arts & Culture  ProCon  Money  Videos Messi’s play continued to rapidly improve over the years, and by 2008 he was one of the most dominant players in the world, finishing second to Manchester United’s Cristiano Ronaldo in the voting for the 2008 Ballon d’Or. In early 2009 Messi capped off a spectacular 2008–09 season by helping FC Barcelona capture the club’s first “treble” (winning three major European club titles in one season): the team won the La Liga championship, the Copa del Rey (Spain’s major domestic cup), and the Champions League title.', 'score': 0.5300668, 'raw_content': None}], 'response_time': 1.29, 'request_id': '9155b71b-2e4c-4e47-a95c-61847af707ad'}\n"
          ]
        }
      ]
    },
    {
      "cell_type": "code",
      "source": [
        "\"\\n\\n---\\n\\n\".join([res[\"content\"] for res in response['results']])"
      ],
      "metadata": {
        "colab": {
          "base_uri": "https://localhost:8080/",
          "height": 139
        },
        "id": "PPPReq2HotBD",
        "outputId": "641b2e43-050e-457a-d3e7-a5c4a7de33dc"
      },
      "execution_count": 36,
      "outputs": [
        {
          "output_type": "execute_result",
          "data": {
            "text/plain": [
              "'Lionel Andrés \"Leo\" Messi isan Argentine professional footballerwho plays as a forward for and captains both Major League Soccer club Inter Miami and the\\n\\n---\\n\\n# Lionel Messi Lionel Messi is a football player from Argentina who plays for Inter Miami. He has won the Ballon D\\'Or, the annual award given to the best player in the world, 8 times, 2022 FIFA World Cup winner and an Olympic gold medal winner in 2008. - View contact info at IMDbPro * Messi * Lionel Messi * Lionel Messi + Lionel Messi + Lionel Messi + Lionel Messi + Messi + Messi + Messi + Lionel Messi + Lionel Messi + Messi * How old is Lionel Messi? * When was Lionel Messi born? * Where was Lionel Messi born? Lionel Messi Messi Keep track of how much of Lionel Messi’s work you have rated. Lionel Messi\\n\\n---\\n\\nName in home country:Lionel Andrés Messi Cuccitini Date of birth/Age:[Jun 24, 1987 (38)](https://www.transfermarkt.us/aktuell/waspassiertheute/aktuell/new/datum/1987-06-24)Place of birth:Rosario![Image 29: Argentina](https://tmssl.akamaized.net//images/flagge/tiny/9.png?lm=1520611569)Height:1,70 m Citizenship:![Image 30: Argentina](https://tmssl.akamaized.net//images/flagge/tiny/9.png?lm=1520611569)Argentina ![Image 31: Spain](https://tmssl.akamaized.net//images/flagge/tiny/157.png?lm=1520611569)Spain Position: Attack - Right Winger Foot:left Player agent:Relatives Current club: [![Image 32: Inter Miami CF](https://tmssl.akamaized.net//images/wappen/small/69261.png?lm=1573561237%201x)](https://www.transfermarkt.us/inter-miami-cf/startseite/verein/69261)[Inter Miami CF](https://www.transfermarkt.us/inter-miami-cf/startseite/verein/69261 \"Inter Miami CF\")Joined: Jul 15, 2023 Contract expires:Dec 31, 2025 Outfitter:adidas Social-Media: ![Image 66: Lionel Messi, FC Barcelona, 2020/2021](https://tmssl.akamaized.net/images/foto/galerie/lionel-messi-fc-barcelona-2020-2021-1615872755-58808.jpg) ![Image 70: Lionel Messi FC Barcelona](https://tmssl.akamaized.net/images/foto/galerie/lionel-messi-fc-barcelona-1548770350-20204.jpg) ![Image 71: Lionel Messi Barcelona](https://tmssl.akamaized.net/images/foto/galerie/messi-1570628108-26423.jpg) ![Image 72: Lionel Messi, FC Barcelona](https://tmssl.akamaized.net/images/foto/galerie/lionel-messi-fc-barcelona-1567748810-25426.jpg) ![Image 73: Lionel Messi Transfermarkt-Spieler der LaLiga-Saison 2018/19](https://tmssl.akamaized.net/images/foto/galerie/lionel-messi-transfermarkt-spieler-der-laliga-saison-2018-19-1566816872-25004.jpg) ![Image 74: Lionel Messi, FC Barcelona](https://tmssl.akamaized.net/images/foto/galerie/lionel-messi-fc-barcelona-1610004379-54096.jpg) ![Image 75: Lionel Messi, FC Barcelona 2020/2021](https://tmssl.akamaized.net/images/foto/galerie/lionel-messi-fc-barcelona-2020-2021-1608727492-53594.jpg) [![Image 90: Lionel Messi](https://img.a.transfermarkt.technology/portrait/medium/28003-1740766555.jpg?lm=1) Lionel Messi ![Image 91: Inter Miami CF](https://tmssl.akamaized.net//images/wappen/kaderquad/69261.png?lm=1573561237)](https://www.transfermarkt.us/beliebtheit/speichernSpieler?spieler_id_gewinner=28003&spieler_id_verlierer=1064191&kontinent=0&land=0&wettbewerb=MLS1&verein=69261&position=0&marktwert=0&spieler_id_1=28003&lieblingsverein=0)![Image 92: versus](https://tmssl.akamaized.net//images/beliebtheit/versus.png)[![Image 93: Tomás Avilés](https://img.a.transfermarkt.technology/portrait/medium/1064191-1740774932.jpg?lm=1) Tomás Avilés ![Image 94: Inter Miami CF](https://tmssl.akamaized.net//images/wappen/kaderquad/69261.png?lm=1573561237)](https://www.transfermarkt.us/beliebtheit/speichernSpieler?spieler_id_gewinner=1064191&spieler_id_verlierer=28003&kontinent=0&land=0&wettbewerb=MLS1&verein=69261&position=0&marktwert=0&spieler_id_1=28003&lieblingsverein=0)\\n\\n---\\n\\nBorn in Rosario, Argentina, in 1987, **Lionel Messi** is widely regarded as one of the greatest football players of all time, and his illustrious career proves why. He was instrumental in helping them win the **FIFA World Cup 2022** in Qatar, where he also won the **Golden Ball**, awarded to the competition\\'s best player. He was also part of the Argentina under-23 team that won **Olympic gold** at the Beijing 2008 Games, which remains one of his most treasured career highlights. [Football](https://www.olympics.com/en/news/erling-haaland-how-does-the-striker-compare-to-messi-ronaldo-mbappe) [Lionel MESSI](https://www.olympics.com/en/news/fifa-world-cup-2022-lionel-messi-records) ### FIFA World Cup 2022: What records did Lionel Messi break? [Lionel MESSI](https://www.olympics.com/en/news/lionel-messi-fifa-world-cup-biggest-disappointments) ### Lionel Messi at FIFA World Cup: Biggest disappointments of Argentina superstar ## Olympic Results\\n\\n---\\n\\nAsk the Chatbot   Games & Quizzes  History & Society  Science & Tech  Biographies  Animals & Nature  Geography & Travel  Arts & Culture  ProCon  Money  Videos Messi’s play continued to rapidly improve over the years, and by 2008 he was one of the most dominant players in the world, finishing second to Manchester United’s Cristiano Ronaldo in the voting for the 2008 Ballon d’Or. In early 2009 Messi capped off a spectacular 2008–09 season by helping FC Barcelona capture the club’s first “treble” (winning three major European club titles in one season): the team won the La Liga championship, the Copa del Rey (Spain’s major domestic cup), and the Champions League title.'"
            ],
            "application/vnd.google.colaboratory.intrinsic+json": {
              "type": "string"
            }
          },
          "metadata": {},
          "execution_count": 36
        }
      ]
    },
    {
      "cell_type": "markdown",
      "source": [
        "# Step 3: Creating the Foundational Nodes\n",
        "\n",
        "Now, let's define the \"workers\" of our agent. Each node in our graph is a Python function that performs a specific task. For our foundational agent, we need three key workers:\n",
        "\n",
        "1.  **Researcher**: Searches the web for information on a given topic.\n",
        "2.  **Synthesizer**: Distills the research into key bullet points.\n",
        "3.  **Writer**: Uses the key points to write the first draft of the podcast script."
      ],
      "metadata": {
        "id": "s_SbTclIW6eg"
      }
    },
    {
      "cell_type": "code",
      "source": [
        "def researcher_node(state: PodcastState) -> dict:\n",
        "    feedback_history = state.get('feedback_history', [])\n",
        "    if feedback_history:\n",
        "        query = state.get('new_research_query') or state['feedback_history'][-1]  # Fallback to latest feedback\n",
        "        print(f\"\\n\\n--- Performing targeted research for: '{query}'---\", flush=True)\n",
        "        key_to_update = \"new_research\"\n",
        "    else:\n",
        "        query = state['topic']\n",
        "        print(f\"\\n\\n--- Starting initial research for: '{query}'---\", flush=True)\n",
        "        key_to_update = \"research_material\"\n",
        "\n",
        "    results = tavily_client.search(query=query, max_results=3)\n",
        "    research_data = \"\\n\\n---\\n\\n\".join([res[\"content\"] for res in results['results']])\n",
        "\n",
        "    return {key_to_update: research_data}"
      ],
      "metadata": {
        "id": "rkucZ_vzSTJD"
      },
      "execution_count": 37,
      "outputs": []
    },
    {
      "cell_type": "code",
      "source": [
        "from langchain_core.prompts import ChatPromptTemplate\n",
        "from langchain_core.output_parsers.string import StrOutputParser"
      ],
      "metadata": {
        "id": "q5ApQmaiyH0E"
      },
      "execution_count": 38,
      "outputs": []
    },
    {
      "cell_type": "code",
      "source": [
        "def synthesizer_node(state: PodcastState):\n",
        "  \"\"\"\n",
        "  Invokes LLM to give list of key points based on research_material.\n",
        "  Args:\n",
        "        state (PodcastState): The current state of the graph.\n",
        "  Returns:\n",
        "        list of strings\n",
        "  \"\"\"\n",
        "  template = \"\"\"Based on the following research, extract 5 to 10 key points.\n",
        "\n",
        "    RESEARCH MATERIAL:\n",
        "    {research_material}\n",
        "\n",
        "    INSTRUCTIONS:\n",
        "    Present the key points as a list, with each point on a new line. Do NOT number them or use bullet points.\n",
        "    \"\"\"\n",
        "  prompt = ChatPromptTemplate.from_template(template)\n",
        "  chain = prompt | llm | StrOutputParser() | (lambda text: text.strip().split('\\n'))\n",
        "  response=chain.invoke({\"research_material\": state['research_material']})\n",
        "  return {\"key_points\": response}\n"
      ],
      "metadata": {
        "id": "B-nRWFWoszKC"
      },
      "execution_count": 39,
      "outputs": []
    },
    {
      "cell_type": "code",
      "source": [
        "from langchain_core.output_parsers import StrOutputParser\n",
        "\n",
        "def writer_node(state: PodcastState) -> dict:\n",
        "    \"\"\"\n",
        "    Invokes the LLM to create, integrate new research into, or refine a monologue.\n",
        "    This node is designed to be cumulative, preserving previous edits.\n",
        "    \"\"\"\n",
        "    podcast_name = state['podcast_name']\n",
        "    topic = state['topic']\n",
        "    key_points = \"\\n- \".join(state.get('key_points', []))\n",
        "    existing_script = state.get('script', '')\n",
        "    feedback_history = state.get('feedback_history', [])\n",
        "    feedback_log = \"\\n- \".join(feedback_history)\n",
        "\n",
        "    # Case 1: Integrating new research into the script\n",
        "    if state.get('new_research'):\n",
        "        print(\"\\n\\n---🔬 Integrating New Research into Script---\", flush=True)\n",
        "        template = \"\"\"You are an expert script editor. Your task is to seamlessly integrate newly discovered information into the existing script.\n",
        "        You MUST adhere to the following rules:\n",
        "        1.  Incorporate the new facts from the \"LATEST KEY POINTS\" into the \"EXISTING SCRIPT\".\n",
        "        2.  PRESERVE all previous edits and creative choices that were made based on the \"USER'S FEEDBACK HISTORY\". Do not remove them.\n",
        "        3.  Ensure the final script flows naturally and remains engaging and conversational.\n",
        "\n",
        "        **EXISTING SCRIPT:**\n",
        "        ---\n",
        "        {existing_script}\n",
        "        ---\n",
        "\n",
        "        **USER'S FEEDBACK HISTORY (Preserve these edits):**\n",
        "        ---\n",
        "        {feedback_log}\n",
        "        ---\n",
        "\n",
        "        **LATEST KEY POINTS (Incorporate these new facts):**\n",
        "        ---\n",
        "        {key_points}\n",
        "        ---\n",
        "\n",
        "        Now, produce the full, updated script.\n",
        "        \"\"\"\n",
        "        inputs = {\n",
        "            \"existing_script\": existing_script,\n",
        "            \"feedback_log\": feedback_log,\n",
        "            \"key_points\": key_points\n",
        "        }\n",
        "\n",
        "    # Case 2: Refining an existing script based on user feedback (no new research)\n",
        "    elif feedback_history:\n",
        "        print(\"\\n\\n---✍️ Refining Script based on Feedback---\", flush=True)\n",
        "\n",
        "        template = \"\"\"You are a host of the podcast called \"{podcast_name}\". Refine the existing script below to incorporate the following user feedback.\n",
        "        Use the key points for context, but prioritize applying the feedback. Ensure the script remains engaging and around 200 words.\n",
        "\n",
        "        **Existing Script:**\n",
        "        {existing_script}\n",
        "\n",
        "        **User Feedback to Apply:**\n",
        "        {feedback_log}\n",
        "\n",
        "        **Contextual Key Points:**\n",
        "        {key_points}\n",
        "        \"\"\"\n",
        "        inputs = {\n",
        "            \"podcast_name\": podcast_name,\n",
        "            \"key_points\": key_points,\n",
        "            \"feedback_log\": feedback_log,\n",
        "            \"existing_script\": existing_script\n",
        "        }\n",
        "\n",
        "    # Case 3: Generating the very first draft\n",
        "    else:\n",
        "        print(\"\\n\\n---📝 Generating Initial Draft---\", flush=True)\n",
        "        # This part of the logic is fine and remains the same.\n",
        "        template = \"\"\"You are a host of the podcast called \"{podcast_name}\". Write an engaging 200-word monologue about '{topic}' based on these key points:\n",
        "        {key_points}.\n",
        "        Make it conversational, insightful, and easy for a general audience to understand.\n",
        "        \"\"\"\n",
        "        inputs = {\n",
        "            \"podcast_name\": podcast_name,\n",
        "            \"topic\": topic,\n",
        "            \"key_points\": key_points\n",
        "        }\n",
        "\n",
        "    prompt = ChatPromptTemplate.from_template(template)\n",
        "    chain = prompt | llm | StrOutputParser()\n",
        "    response = chain.invoke(inputs)\n",
        "    return {'script': response}"
      ],
      "metadata": {
        "id": "C6l03IJG7SXk"
      },
      "execution_count": 40,
      "outputs": []
    },
    {
      "cell_type": "markdown",
      "source": [
        "Assembling the Foundational Linear Graph - Just to showcase its working"
      ],
      "metadata": {
        "id": "I5rJAkj84Bxb"
      }
    },
    {
      "cell_type": "code",
      "source": [
        "from langgraph.graph import StateGraph, END, START\n",
        "graph=StateGraph(PodcastState)"
      ],
      "metadata": {
        "id": "hEOJ1C6CkZHj"
      },
      "execution_count": 42,
      "outputs": []
    },
    {
      "cell_type": "code",
      "source": [
        "# Add nodes to the graph. Each node represents a step in the podcast creation process.\n",
        "graph.add_node('researcher', researcher_node)\n",
        "graph.add_node('synthesizer', synthesizer_node)\n",
        "graph.add_node('writer', writer_node)\n",
        "\n",
        "# Define the sequence of steps. START indicates the beginning of the graph.\n",
        "graph.add_edge(START, 'researcher') # Start the process by researching the topic.\n",
        "graph.add_edge('researcher', 'synthesizer') # After research, synthesize the key points.\n",
        "graph.add_edge('synthesizer', 'writer') # Use the key points to write the script.\n",
        "\n",
        "# The final step in this basic graph is to end.\n",
        "graph.add_edge('writer', END) # After writing, the process is complete."
      ],
      "metadata": {
        "colab": {
          "base_uri": "https://localhost:8080/"
        },
        "id": "B1QzBDqakm7u",
        "outputId": "de846ea3-578c-4adc-f577-e2be23c94aec"
      },
      "execution_count": 43,
      "outputs": [
        {
          "output_type": "execute_result",
          "data": {
            "text/plain": [
              "<langgraph.graph.state.StateGraph at 0x7ccbad1de1b0>"
            ]
          },
          "metadata": {},
          "execution_count": 43
        }
      ]
    },
    {
      "cell_type": "code",
      "source": [
        "app=graph.compile()"
      ],
      "metadata": {
        "id": "nx3zy-j_z1NU"
      },
      "execution_count": 44,
      "outputs": []
    },
    {
      "cell_type": "code",
      "source": [
        "# Invoke the compiled graph with an initial state.\n",
        "# The initial state contains the 'topic' for the podcast.\n",
        "final_state=app.invoke({'topic': 'Future of AI',\n",
        "                        \"podcast_name\": \"Curious Chronicles\"})"
      ],
      "metadata": {
        "id": "ciOIhBQDlyn-",
        "colab": {
          "base_uri": "https://localhost:8080/"
        },
        "outputId": "391edcd4-5c7f-4d15-aeac-6b9c48db8bd8"
      },
      "execution_count": 45,
      "outputs": [
        {
          "output_type": "stream",
          "name": "stdout",
          "text": [
            "\n",
            "\n",
            "--- Starting initial research for: 'Future of AI'---\n",
            "\n",
            "\n",
            "---📝 Generating Initial Draft---\n"
          ]
        }
      ]
    },
    {
      "cell_type": "code",
      "source": [
        "# Display the final script generated by the graph.\n",
        "display(final_state['script'])"
      ],
      "metadata": {
        "colab": {
          "base_uri": "https://localhost:8080/",
          "height": 139
        },
        "id": "_RXXN1GJnG3d",
        "outputId": "2bad7ed3-49dc-4fa0-d486-dd66dd6abfca"
      },
      "execution_count": 46,
      "outputs": [
        {
          "output_type": "display_data",
          "data": {
            "text/plain": [
              "\"(Intro music fades)\\n\\nWelcome back to Curious Chronicles, where we unravel the mysteries of our ever-evolving world! Today, we’re diving headfirst into a topic that’s no longer science fiction: the future of Artificial Intelligence. Get ready, because AI is about to become your new roommate, your personal assistant, and maybe even your tutor!\\n\\nThink about it: AI is already quietly revolutionizing how we analyze data, how we care for each other, and yes, even how we manage our homes. And with generative AI, like the one you’re hearing me speak through right now, businesses are seeing tasks get automated at lightning speed. This isn't just about efficiency; it's about unlocking new levels of productivity and safety in the workplace, giving us instant insights to make smarter decisions.\\n\\nBut the impact doesn't stop there. Education is on the cusp of a massive transformation, with AI poised to personalize learning for everyone, from kindergartners to lifelong learners. However, as AI gets smarter, we need to be mindful. Training these powerful models on public data raises crucial questions about data security and the privacy of our personal information. It’s a delicate balance, and one we’ll be exploring further. Stay curious!\\n\\n(Outro music begins)\""
            ],
            "application/vnd.google.colaboratory.intrinsic+json": {
              "type": "string"
            }
          },
          "metadata": {}
        }
      ]
    },
    {
      "cell_type": "markdown",
      "source": [
        "---\n",
        "# ✨ Step 4: Building the Feedback Loop - The New Code Begins Here!\n",
        "\n",
        "Excellent! We have our foundational linear agent. Now, let's upgrade it to be a truly interactive partner.\n",
        "\n",
        "From this point forward, we will add the core components for our feedback cycle. We will be creating:\n",
        "\n",
        "1.  **A `router` function:** The \"brain\" of our loop, which will decide whether to revise the script or finish the process.\n",
        "2.  **A New Graph with Conditional Edges:** We will re-assemble our graph to include a cycle, enabling the agent to loop until the script is approved.\n",
        "\n",
        "Let's start with the `reflection_node` - the agent's 'brain' to decide the next step based on user feedback.."
      ],
      "metadata": {
        "id": "VjZA8beTWOGh"
      }
    },
    {
      "cell_type": "code",
      "source": [
        "from langchain_core.output_parsers import StrOutputParser\n",
        "\n",
        "def reflection_node(state: PodcastState) -> dict:\n",
        "    \"\"\"\n",
        "    Acts as the agent's 'brain' to decide the next step based on user feedback.\n",
        "\n",
        "    It analyzes the latest feedback to determine if new factual information is\n",
        "    needed ('research') or if the request is a stylistic/creative change ('revise').\n",
        "    This decision routes the agent to either the `researcher` for new information\n",
        "    or directly back to the `writer` for revisions.\n",
        "    \"\"\"\n",
        "\n",
        "    print('\\n\\n')\n",
        "    print(\"---🤔 Reflecting on Feedback & Planning Next Action---\", flush=True)\n",
        "    script = state['script']\n",
        "    # feedback = \"\\n- \".join(state.get('feedback_history', []))\n",
        "    feedback_history = state.get('feedback_history', [])\n",
        "    feedback=feedback_history[-1]\n",
        "    print(f\"Input Script: {script[:100]}...\", flush=True)\n",
        "    print(f\"Recent Feedback: {feedback}\", flush=True)\n",
        "\n",
        "    template = \"\"\"You are an AI agent's internal \"reflection\" module.\n",
        "    Your job is to analyze the user's latest feedback and determine the correct tool to use.\n",
        "\n",
        "    You have two choices:\n",
        "    1.  **\"research\"**: Choose this if the user is asking for a new piece of factual information that is likely not in the script. The request is about *knowing* something new.\n",
        "    2.  **\"revise\"**: Choose this if the user is asking for stylistic changes, creative additions (like a conclusion), structural edits, or modifications based on facts that are likely already in the script. The request is about *writing* something new.\n",
        "\n",
        "    **Analyze the following examples:**\n",
        "    - User Feedback: \"who invented the whiteboard?\" -> Your response: research\n",
        "    - User Feedback: \"make the intro more exciting and add a conclusion\" -> Your response: revise\n",
        "    - User Feedback: \"change the podcast name to 'Chalk Talk'\" -> Your response: revise\n",
        "    - User Feedback: \"what about the invention of the corkboard?\" -> Your response: research\n",
        "    - User Feedback: \"add about smart boards\" -> Your response: research\n",
        "    - User Feedback: \"please include next weeks podcast topic (coffee beans) in the conclusion\" -> Your response: revise\n",
        "\n",
        "    **Now, analyze the user's latest feedback based on the provided script and make your decision.**\n",
        "    Respond with ONLY the single word \"research\" or \"revise\".\n",
        "\n",
        "    **CURRENT SCRIPT:**\n",
        "    ---\n",
        "    {script}\n",
        "    ---\n",
        "\n",
        "    **USER FEEDBACK:**\n",
        "    ---\n",
        "    {feedback}\n",
        "    ---\n",
        "    \"\"\"\n",
        "\n",
        "    prompt = ChatPromptTemplate.from_template(template)\n",
        "    chain = prompt | llm | StrOutputParser()\n",
        "\n",
        "    result = chain.invoke({\n",
        "        \"script\": script,\n",
        "        \"feedback\": feedback\n",
        "    })\n",
        "\n",
        "    decision = result.strip().lower()\n",
        "    if decision not in [\"research\", \"revise\"]:\n",
        "        print(f\"Warning: Invalid LLM output: {result}. Defaulting to 'revise'.\", flush=True)\n",
        "        decision = \"revise\"\n",
        "\n",
        "    print(f\"Raw LLM Output: {result}\", flush=True)\n",
        "    print(f\"Decision: The user's feedback requires '{decision}'.\", flush=True)\n",
        "\n",
        "    # Set new_research_query for research tasks\n",
        "    if decision == \"research\":\n",
        "        # If we need to research, we don't clear new_research yet.\n",
        "        # The researcher will overwrite it.\n",
        "        return {\n",
        "            \"reflection_decision\": decision,\n",
        "            \"new_research_query\": state['feedback_history'][-1] # Use latest feedback as query\n",
        "        }\n",
        "    else:\n",
        "        # If we are just revising, explicitly clear the new_research field.\n",
        "        return {\n",
        "            \"reflection_decision\": decision,\n",
        "            \"new_research_query\": None,\n",
        "            \"new_research\": None\n",
        "        }"
      ],
      "metadata": {
        "id": "fO0fAD176kws"
      },
      "execution_count": 47,
      "outputs": []
    },
    {
      "cell_type": "code",
      "source": [
        "def research_updater_node(state: PodcastState) -> dict:\n",
        "    \"\"\"\n",
        "    Appends the new research findings to the existing research material.\n",
        "    \"\"\"\n",
        "    print(\"\\n---📚 Updating Research Material---\")\n",
        "\n",
        "    # The researcher_node will have put its new findings in a temporary state key\n",
        "    # Let's assume we call it 'new_research'\n",
        "    new_findings = state.get('new_research', '')\n",
        "    existing_research = state['research_material']\n",
        "\n",
        "    updated_research = existing_research + \"\\n\\n--- NEW FINDINGS ---\\n\\n\" + new_findings\n",
        "\n",
        "    return {\"research_material\": updated_research}"
      ],
      "metadata": {
        "id": "SicQuZ4xzM7M"
      },
      "execution_count": 48,
      "outputs": []
    },
    {
      "cell_type": "code",
      "source": [
        "# Create a new StateGraph for the interactive revision process.\n",
        "workflow=StateGraph(PodcastState)"
      ],
      "metadata": {
        "id": "i2wOAmVbt2Qa"
      },
      "execution_count": 49,
      "outputs": []
    },
    {
      "cell_type": "code",
      "source": [
        "# Add all nodes, including the new ones\n",
        "workflow.add_node(\"researcher\", researcher_node)\n",
        "workflow.add_node(\"synthesizer\", synthesizer_node)\n",
        "workflow.add_node(\"writer\", writer_node)\n",
        "workflow.add_node(\"reflector\", reflection_node)\n",
        "workflow.add_node(\"research_updater\", research_updater_node)\n",
        "# workflow.add_node(\"reviser\", reviser_node)\n",
        "\n",
        "# 1. Set the entry point\n",
        "workflow.set_entry_point(\"researcher\")\n",
        "\n",
        "# 2. Define the path for the INITIAL draft\n",
        "#    This is a conditional edge from the researcher.\n",
        "#    It checks if this is the first run (no feedback yet).\n",
        "workflow.add_conditional_edges(\n",
        "    \"researcher\",\n",
        "    lambda state: \"synthesizer\" if not state.get(\"feedback_history\") else \"research_updater\",\n",
        "    {\n",
        "        \"synthesizer\": \"synthesizer\",       # Path for initial run\n",
        "        \"research_updater\": \"research_updater\" # Path for re-research run\n",
        "    }\n",
        ")\n",
        "\n",
        "# 3. Continue the initial path\n",
        "workflow.add_edge(\"synthesizer\", \"writer\")\n",
        "\n",
        "# 4. The feedback gatekeeper (after writer pauses)\n",
        "workflow.add_conditional_edges(\n",
        "    \"writer\",\n",
        "    lambda state: \"reflector\" if state.get(\"feedback_history\") else END,\n",
        "    {\"reflector\": \"reflector\", END: END}\n",
        ")\n",
        "\n",
        "\n",
        "# 5. The reflection router\n",
        "workflow.add_conditional_edges(\n",
        "    \"reflector\",\n",
        "    lambda state: state.get(\"reflection_decision\", \"revise\"),\n",
        "    {\"research\": \"researcher\", \"revise\": \"writer\"}\n",
        ")\n",
        "\n",
        "# 6. Define the path for the RE-RESEARCH loop\n",
        "workflow.add_edge(\"research_updater\", \"synthesizer\") # Re-synthesize with new info!"
      ],
      "metadata": {
        "colab": {
          "base_uri": "https://localhost:8080/"
        },
        "id": "txdB9E2tt8An",
        "outputId": "7f2211cb-5d49-481d-9392-3b83374f76fd"
      },
      "execution_count": 50,
      "outputs": [
        {
          "output_type": "execute_result",
          "data": {
            "text/plain": [
              "<langgraph.graph.state.StateGraph at 0x7cca8e56f050>"
            ]
          },
          "metadata": {},
          "execution_count": 50
        }
      ]
    },
    {
      "cell_type": "code",
      "source": [
        "# Compile the graph. This prepares the graph for execution.\n",
        "# The 'interrupt_after=[\"writer\"]' argument allows the execution to pause after the 'writer' node,\n",
        "# so human feedback can be provided before continuing.\n",
        "from langgraph.checkpoint.memory import MemorySaver\n",
        "'''MemorySaver() is our in-memory \"database.\" It's where the agent's state for each conversation will be stored.\n",
        "For a production application, this could be a real database like Redis or Postgres.'''\n",
        "checkpointer = MemorySaver()\n",
        "app2 = workflow.compile(checkpointer=checkpointer, interrupt_after=[\"writer\"])"
      ],
      "metadata": {
        "id": "B1Y4QrAOwBIe"
      },
      "execution_count": 51,
      "outputs": []
    },
    {
      "cell_type": "markdown",
      "source": [
        "LangGraph provides robust and professional solution for managing the conversation: **checkpointing**.\n",
        "\n",
        "### What is Checkpointing?\n",
        "\n",
        "Think of checkpointing like an **auto-save feature in a video game**. Every time the agent completes a step (a node), the `MemorySaver` automatically saves a snapshot of its entire state (its \"memory\"). When the graph is interrupted to wait for our feedback, we don't need to worry about losing its progress.\n",
        "\n",
        "This allows us to have a clean, persistent conversation. We can stop, give feedback, and then tell the agent to **resume** from its last saved checkpoint, now equipped with our new instructions."
      ],
      "metadata": {
        "id": "1kG0T8pql2wv"
      }
    },
    {
      "cell_type": "markdown",
      "source": [
        "### Display the compiled graph object."
      ],
      "metadata": {
        "id": "Hly3pOnCxnGq"
      }
    },
    {
      "cell_type": "markdown",
      "source": [
        "![image (1).png](data:image/png;base64,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)"
      ],
      "metadata": {
        "id": "3b2-dK2OxgmK"
      }
    },
    {
      "cell_type": "markdown",
      "source": [
        "### Deconstructing Our Agent's Final Workflow: A Visual Guide\n",
        "\n",
        "This diagram visualizes the sophisticated, multi-path workflow of our final \"self-improving\" agent. This is no longer a simple straight line; it's a dynamic graph with distinct loops for different tasks. Let's trace the paths the agent can take.\n",
        "\n",
        "#### Path A: The Initial Draft\n",
        "\n",
        "This is the path taken on the very first run, when the agent's `feedback_history` is empty.\n",
        "\n",
        "1.  **`__start__ -> researcher`**: The process begins with initial research on the topic.\n",
        "2.  **`researcher` -> `synthesizer`**: A **conditional edge** checks that there is no feedback history and correctly routes the flow to the `synthesizer` to process the new research.\n",
        "3.  **`synthesizer` -> `writer`**: The key points are used to write the first draft.\n",
        "4.  **`writer` (`__interrupt = after`)**: The graph pauses here. Thanks to our **checkpointer**, its entire state is saved, and it waits for our first round of feedback.\n",
        "\n",
        "#### Path B: The Feedback Gateway & The \"Brain\"\n",
        "\n",
        "Once we provide feedback, the agent resumes and enters its main reasoning loop.\n",
        "\n",
        "1.  **`writer` -> `reflector`**: A \"gatekeeper\" edge checks that `feedback_history` now exists and sends the agent to its \"brain,\" the `reflector` node. (If the user approves the script, our Python loop ends the process, and the graph correctly proceeds to `END` if it were to continue).\n",
        "2.  **The Reflector's Decision**: The `reflector` analyzes our intent (is it a request for facts or a creative change?) and saves its decision (e.g., `\"research\"` or `\"revise\"`) into the agent's state.\n",
        "\n",
        "#### Path C: The \"Re-Research\" Loop\n",
        "\n",
        "This is the agent's smartest path, taken when it identifies a knowledge gap.\n",
        "\n",
        "1.  **`reflector` -> `researcher`**: A conditional edge reads the `\"research\"` decision from the state and routes the agent back to the `researcher` to learn something new.\n",
        "2.  **`researcher` -> `research_updater`**: The *same* conditional edge from step A2 now sees that `feedback_history` exists and correctly sends the flow to the `research_updater` to merge the new findings with the old.\n",
        "3.  **`research_updater` -> `synthesizer`**: With its knowledge base expanded, the agent **must** re-synthesize its key points to form a new, more complete understanding.\n",
        "4.  **`synthesizer` -> `writer`**: The agent now writes a new script based on this enriched understanding and pauses for our next round of feedback.\n",
        "\n",
        "#### Path D: The \"Simple Revision\" Loop\n",
        "\n",
        "This path is taken when the `reflector` decides no new research is needed. It is a highly efficient, direct loop.\n",
        "\n",
        "1.  **`reflector` -> `writer`**: The conditional edge reads the `\"revise\"` decision from the state and sends the agent **directly back to the `writer` node.**\n",
        "2.  **The `writer` Revises and Presents**: The `writer` node's internal logic detects that no new research was performed and executes its \"refine\" path. It incorporates the feedback into the script and, because it's the interrupt point, **immediately pauses** to present the new version, closing the feedback loop."
      ],
      "metadata": {
        "id": "uYu6MGBRhdOj"
      }
    },
    {
      "cell_type": "markdown",
      "source": [
        "## Run the Agent Interactively"
      ],
      "metadata": {
        "id": "8DlXbyDsj0w8"
      }
    },
    {
      "cell_type": "code",
      "source": [
        "# This is our \"user interface\"\n",
        "def get_human_feedback():\n",
        "    \"\"\"A simple function to get input from the command line.\"\"\"\n",
        "    print('\\n\\n')\n",
        "    print('-'*50)\n",
        "    feedback = input(\"Your feedback (or type 'approve' to finish): \")\n",
        "    return feedback"
      ],
      "metadata": {
        "id": "ZHdwx3WPwEWy"
      },
      "execution_count": 52,
      "outputs": []
    },
    {
      "cell_type": "markdown",
      "source": [
        "### Breaking Down the Code Below\n",
        "\n",
        "*   **`config = {\"configurable\": {\"thread_id\": \"...\"}}`**: This is the heart of persistence. The `thread_id` is like a unique file name for our conversation. Every time we call the agent with this same `thread_id`, LangGraph knows we are continuing the *same* conversation. This allows you to manage multiple, independent conversations at the same time.\n",
        "\n",
        "*   **The Interactive Loop**: Our `while` loop follows a professional \"invoke-get-update-resume\" pattern:\n",
        "    1.  **`app2.invoke(initial_input, config)`**: This kicks off the very first run for our `podcast_thread`.\n",
        "    2.  **`app2.get_state(config)`**: After the agent pauses at an interrupt, we use this to load the latest saved snapshot of its memory for that `thread_id`.\n",
        "    3.  **`app2.update_state(config, ...)`**: This is how we, the human, can **write directly into the agent's memory**. We take our `user_feedback` and inject it into the saved state, preparing the agent for its next step.\n",
        "    4.  **`app2.invoke(None, config)`**: This is the **resume** command. By passing `None` as the input, we are telling LangGraph: \"Don't start a new run. Wake up the agent from its last checkpoint and continue from where you left off.\""
      ],
      "metadata": {
        "id": "Oar_7KTdmOK9"
      }
    },
    {
      "cell_type": "code",
      "source": [
        "# Define the config for checkpointing\n",
        "config = {\"configurable\": {\"thread_id\": \"podcast_thread\"}}\n",
        "\n",
        "# Initial input for the first run\n",
        "initial_input = {\n",
        "    \"topic\": \"The surprising history of the Blackboard\",\n",
        "    \"podcast_name\": \"Curious Chronicles\",\n",
        "    \"feedback_history\": []\n",
        "}\n",
        "\n",
        "# First run: Start the graph with initial input\n",
        "print(f\"First Run Config: {config}\", flush=True)\n",
        "print(f\"Initial Input: {initial_input}\", flush=True)\n",
        "app2.invoke(initial_input, config=config)\n",
        "\n",
        "# Loop for feedback and resumption\n",
        "while True:\n",
        "    # Get the current state after interrupt\n",
        "    state_snapshot = app2.get_state(config)\n",
        "    if not state_snapshot:\n",
        "        raise ValueError(\"No state found after invoke. Check graph configuration.\")\n",
        "    final_state = state_snapshot.values\n",
        "    print(f\"Current State After Invoke: {final_state}\", flush=True)\n",
        "\n",
        "    print(\"\\n--- 📜 AGENT'S SCRIPT ---\", flush=True)\n",
        "    print(final_state['script'], flush=True)\n",
        "\n",
        "    user_feedback = get_human_feedback()\n",
        "\n",
        "    if user_feedback.lower() == \"approve\":\n",
        "        print(\"\\n--- ✅ Script Approved. Final Version: ---\", flush=True)\n",
        "        print(final_state['script'], flush=True)\n",
        "        break\n",
        "\n",
        "    # Update feedback_history in the checkpointed state\n",
        "    current_feedback = final_state.get(\"feedback_history\", [])\n",
        "    new_feedback_history = current_feedback + [user_feedback]\n",
        "    print('\\n\\n')\n",
        "    print(f\"Updated Feedback History: {new_feedback_history}\", flush=True)\n",
        "\n",
        "    # Update the state with new feedback, preserving other fields\n",
        "    app2.update_state(config, {\"feedback_history\": new_feedback_history})\n",
        "\n",
        "    # Resume the graph from the interrupt\n",
        "    print('\\n\\n')\n",
        "    print(f\"Resuming with Config: {config}\", flush=True)\n",
        "    app2.invoke(None, config=config)"
      ],
      "metadata": {
        "colab": {
          "base_uri": "https://localhost:8080/"
        },
        "id": "12Hnr5RV622o",
        "outputId": "8b4c7379-6c78-4179-e008-f3bd58537bc1"
      },
      "execution_count": 53,
      "outputs": [
        {
          "output_type": "stream",
          "name": "stdout",
          "text": [
            "First Run Config: {'configurable': {'thread_id': 'podcast_thread'}}\n",
            "Initial Input: {'topic': 'The surprising history of the Blackboard', 'podcast_name': 'Curious Chronicles', 'feedback_history': []}\n",
            "\n",
            "\n",
            "--- Starting initial research for: 'The surprising history of the Blackboard'---\n",
            "\n",
            "\n",
            "---📝 Generating Initial Draft---\n",
            "Current State After Invoke: {'topic': 'The surprising history of the Blackboard', 'podcast_name': 'Curious Chronicles', 'research_material': '# The History of the Classroom Blackboard James Pillans, headmaster and geography teacher at the Old High School in Edinburgh, Scotland, is credited with inventing the first modern blackboard when he hung a large piece of slate on the classroom wall. America’s fast-growing railroad system assured that by the middle of the 19th century, almost every classroom in America had a blackboard, mostly using slate shipped from quarries in Vermont, Maine, Pennsylvania, New York, Maryland and Virginia. Blackboard classroom history remained essentially the same until the 1960s with schools teachers using slate blackboards like their predecessors. * C-SPAN Classroom is an Important Tool for Social Studies Teachers * How Can Teachers Cultivate Social Connection and Empathy in the Classroom?\\n\\n---\\n\\nWhen contractors began work on four classrooms of Emerson High School in Oklahoma, they knew their remodel would improve education — but they never expected it would impact local history. Principal Kishore told The Oklahoman what it was like to show her 85-year-old mother the boards: “She just stood there and cried. Built in 1895, Emerson High School has seen many renovations and improvements throughout the years — but nothing like this has ever been discovered. * Good Morning America (ABC News) - \"Oklahoma High School Stunned to Find 100-Year-Old Chalkboard Lessons (includes link to video story) - **abcnews.go.com**/Lifestyle/oklahoma-high-school-stunned-find-100-year-chalkboard/story? * NewsOK \"Workers discover preserved writings, drawings on slate blackboard at OKC high school\" (Includes video link) - **newsok.com**/article/5425449\\n\\n---\\n\\nIn a world of laptops, tablets and smartphones it’s difficult to see how an invention like the blackboard had such a huge effect on education. Not only did blackboards become very popular very quickly, they required fewer writing materials for schools and students who could not always afford paper and pencils. Before the invention of the blackboard, students did have access to individual slates, which they could write their assignments and answers on. So who deserves credit for the invention of the blackboard? Now, as technology continues to change and advance, we have many more options, including the new clear dry erase board, which allow your room or office to remain cleaner, lighter, and even environmentally-friendly. blackboard, blackboard history, clarus, whiteboard history', 'key_points': ['James Pillans is credited with inventing the first modern blackboard by hanging a slate on a classroom wall.', 'The expansion of the railroad system in the mid-19th century led to widespread adoption of blackboards in American classrooms.', 'Blackboards remained largely unchanged in classrooms until the 1960s.', 'A discovery at Emerson High School in Oklahoma revealed 100-year-old preserved writings and drawings on a slate blackboard.', 'Blackboards significantly impacted education by reducing the need for expensive writing materials like paper and pencils.'], 'script': '**(Intro music fades)**\\n\\nWelcome back to Curious Chronicles, where we unearth the fascinating stories behind the everyday! Today, we’re diving into something you’ve probably seen in countless movies and maybe even a classroom or two: the humble blackboard.\\n\\nNow, you might think this is a pretty straightforward invention, right? But its journey is surprisingly rich. We can thank James Pillans, a Scottish educator, for the modern blackboard concept around 1801. He simply hung a slate on the wall – genius! But it was the mid-19th century railroad boom that truly propelled blackboards into American classrooms. Suddenly, these affordable tools were everywhere, revolutionizing how lessons were taught.\\n\\nFor over a century, the blackboard remained the undisputed king of the classroom, largely unchanged until the 1960s. And get this – a recent discovery at Emerson High School in Oklahoma unearthed a century-old blackboard with preserved writings and drawings! It’s a tangible link to the past. More importantly, the blackboard democratized education, drastically cutting down the need for costly paper and pencils. A simple slate, a game-changer for learning!\\n\\n**(Outro music begins to fade in)**', 'feedback_history': []}\n",
            "\n",
            "--- 📜 AGENT'S SCRIPT ---\n",
            "**(Intro music fades)**\n",
            "\n",
            "Welcome back to Curious Chronicles, where we unearth the fascinating stories behind the everyday! Today, we’re diving into something you’ve probably seen in countless movies and maybe even a classroom or two: the humble blackboard.\n",
            "\n",
            "Now, you might think this is a pretty straightforward invention, right? But its journey is surprisingly rich. We can thank James Pillans, a Scottish educator, for the modern blackboard concept around 1801. He simply hung a slate on the wall – genius! But it was the mid-19th century railroad boom that truly propelled blackboards into American classrooms. Suddenly, these affordable tools were everywhere, revolutionizing how lessons were taught.\n",
            "\n",
            "For over a century, the blackboard remained the undisputed king of the classroom, largely unchanged until the 1960s. And get this – a recent discovery at Emerson High School in Oklahoma unearthed a century-old blackboard with preserved writings and drawings! It’s a tangible link to the past. More importantly, the blackboard democratized education, drastically cutting down the need for costly paper and pencils. A simple slate, a game-changer for learning!\n",
            "\n",
            "**(Outro music begins to fade in)**\n",
            "\n",
            "\n",
            "\n",
            "--------------------------------------------------\n",
            "Your feedback (or type 'approve' to finish): 'Add some info about smart boards\n",
            "\n",
            "\n",
            "\n",
            "Updated Feedback History: [\"'Add some info about smart boards\"]\n",
            "\n",
            "\n",
            "\n",
            "Resuming with Config: {'configurable': {'thread_id': 'podcast_thread'}}\n",
            "\n",
            "\n",
            "\n",
            "---🤔 Reflecting on Feedback & Planning Next Action---\n",
            "Input Script: **(Intro music fades)**\n",
            "\n",
            "Welcome back to Curious Chronicles, where we unearth the fascinating storie...\n",
            "Recent Feedback: 'Add some info about smart boards\n",
            "Raw LLM Output: research\n",
            "Decision: The user's feedback requires 'research'.\n",
            "\n",
            "\n",
            "--- Performing targeted research for: ''Add some info about smart boards'---\n",
            "\n",
            "---📚 Updating Research Material---\n",
            "\n",
            "\n",
            "---🔬 Integrating New Research into Script---\n",
            "Current State After Invoke: {'topic': 'The surprising history of the Blackboard', 'podcast_name': 'Curious Chronicles', 'research_material': '# The History of the Classroom Blackboard James Pillans, headmaster and geography teacher at the Old High School in Edinburgh, Scotland, is credited with inventing the first modern blackboard when he hung a large piece of slate on the classroom wall. America’s fast-growing railroad system assured that by the middle of the 19th century, almost every classroom in America had a blackboard, mostly using slate shipped from quarries in Vermont, Maine, Pennsylvania, New York, Maryland and Virginia. Blackboard classroom history remained essentially the same until the 1960s with schools teachers using slate blackboards like their predecessors. * C-SPAN Classroom is an Important Tool for Social Studies Teachers * How Can Teachers Cultivate Social Connection and Empathy in the Classroom?\\n\\n---\\n\\nWhen contractors began work on four classrooms of Emerson High School in Oklahoma, they knew their remodel would improve education — but they never expected it would impact local history. Principal Kishore told The Oklahoman what it was like to show her 85-year-old mother the boards: “She just stood there and cried. Built in 1895, Emerson High School has seen many renovations and improvements throughout the years — but nothing like this has ever been discovered. * Good Morning America (ABC News) - \"Oklahoma High School Stunned to Find 100-Year-Old Chalkboard Lessons (includes link to video story) - **abcnews.go.com**/Lifestyle/oklahoma-high-school-stunned-find-100-year-chalkboard/story? * NewsOK \"Workers discover preserved writings, drawings on slate blackboard at OKC high school\" (Includes video link) - **newsok.com**/article/5425449\\n\\n---\\n\\nIn a world of laptops, tablets and smartphones it’s difficult to see how an invention like the blackboard had such a huge effect on education. Not only did blackboards become very popular very quickly, they required fewer writing materials for schools and students who could not always afford paper and pencils. Before the invention of the blackboard, students did have access to individual slates, which they could write their assignments and answers on. So who deserves credit for the invention of the blackboard? Now, as technology continues to change and advance, we have many more options, including the new clear dry erase board, which allow your room or office to remain cleaner, lighter, and even environmentally-friendly. blackboard, blackboard history, clarus, whiteboard history\\n\\n--- NEW FINDINGS ---\\n\\n• Smart boards are interactive displays that combine touchscreen technology, specialized software, and connectivity options to create dynamic presentation and collaboration tools for education and business settings. • Smart boards offer benefits like increased engagement, time-saving features, enhanced collaboration, and improved accessibility, while considerations for purchase include screen size, resolution, connectivity, and integration with existing technology ecosystems. A smart board is an interactive display that combines touchscreen technology, stylus input, and specialized software to create a dynamic presentation and collaboration tool. Language arts teachers use smart boards for interactive reading comprehension activities where students highlight text, identify literary devices, and make connections between passages. The interactive nature of smart boards fundamentally changes how people engage with presented content.\\n\\n---\\n\\nA smart board is an interactive whiteboard that uses multiple touch points and advanced software to help teachers engage students and make teaching and learning more dynamic. Smart boards can also be used to facilitate classroom management, while allowing students to interact with digital content and each other. Smart board size and resolution help make smart boards a great choice for classrooms, meeting rooms, and other settings, as they enhance student engagement and allow for interactive learning. Smart boards wouldn’t just help teachers but also students as they can interact with multimedia content and access online resources. A smart board is a digital whiteboard in the classroom that enhances the way teachers and students interact with multimedia content.\\n\\n---\\n\\nWhat is a smart board? * What is a smart board? smart board * Smart board for classrooms: enhanced active learning Smart Board 101 for Teachers ## What is a smart board? smart board **How do smart board apps help teachers?** Smart boards are great tools for teachers looking to increase active participation and learning retention among their students with interactive apps. Smart boards help teachers do just that. **What are the best smart board apps for teachers?** The best smart board apps make teaching easier and learning more engaging. Most smart boards already come with whiteboarding software, but the best type for teachers packs a variety of powerful features that replace physical tools and can be used to enhance every lesson.', 'key_points': ['James Pillans is credited with inventing the first modern blackboard using slate.', 'Blackboards became widespread in American classrooms by the mid-19th century due to the railroad system.', 'A significant historical find occurred at Emerson High School in Oklahoma, where 100-year-old chalkboard lessons were discovered during renovations.', 'Smart boards are interactive displays that combine touchscreen technology, specialized software, and connectivity for dynamic presentations and collaboration.', 'Smart boards offer benefits such as increased student engagement, time-saving features, enhanced collaboration, and improved accessibility.'], 'script': '**(Intro music fades)**\\n\\nWelcome back to Curious Chronicles, where we unearth the fascinating stories behind the everyday! Today, we’re diving into something you’ve probably seen in countless movies and maybe even a classroom or two: the humble blackboard.\\n\\nNow, you might think this is a pretty straightforward invention, right? But its journey is surprisingly rich. We can thank James Pillans, a Scottish educator, for the first modern blackboard concept around 1801. He simply hung a slate on the wall – genius! But it was the mid-19th century railroad boom that truly propelled blackboards into American classrooms. Suddenly, these affordable tools were everywhere, revolutionizing how lessons were taught.\\n\\nFor over a century, the blackboard remained the undisputed king of the classroom, largely unchanged until the 1960s. And get this – a significant historical find occurred at Emerson High School in Oklahoma, where 100-year-old chalkboard lessons were discovered during renovations! It’s a tangible link to the past. More importantly, the blackboard democratized education, drastically cutting down the need for costly paper and pencils. A simple slate, a game-changer for learning!\\n\\nBut as technology advanced, so did the classroom. Enter the smart board! These interactive displays combine touchscreen technology, specialized software, and connectivity for dynamic presentations and collaboration. Smart boards offer a whole new world of benefits, from increased student engagement and time-saving features to enhanced collaboration and improved accessibility. They represent the next evolution in how we share knowledge.\\n\\n**(Outro music begins to fade in)**', 'new_research': '• Smart boards are interactive displays that combine touchscreen technology, specialized software, and connectivity options to create dynamic presentation and collaboration tools for education and business settings. • Smart boards offer benefits like increased engagement, time-saving features, enhanced collaboration, and improved accessibility, while considerations for purchase include screen size, resolution, connectivity, and integration with existing technology ecosystems. A smart board is an interactive display that combines touchscreen technology, stylus input, and specialized software to create a dynamic presentation and collaboration tool. Language arts teachers use smart boards for interactive reading comprehension activities where students highlight text, identify literary devices, and make connections between passages. The interactive nature of smart boards fundamentally changes how people engage with presented content.\\n\\n---\\n\\nA smart board is an interactive whiteboard that uses multiple touch points and advanced software to help teachers engage students and make teaching and learning more dynamic. Smart boards can also be used to facilitate classroom management, while allowing students to interact with digital content and each other. Smart board size and resolution help make smart boards a great choice for classrooms, meeting rooms, and other settings, as they enhance student engagement and allow for interactive learning. Smart boards wouldn’t just help teachers but also students as they can interact with multimedia content and access online resources. A smart board is a digital whiteboard in the classroom that enhances the way teachers and students interact with multimedia content.\\n\\n---\\n\\nWhat is a smart board? * What is a smart board? smart board * Smart board for classrooms: enhanced active learning Smart Board 101 for Teachers ## What is a smart board? smart board **How do smart board apps help teachers?** Smart boards are great tools for teachers looking to increase active participation and learning retention among their students with interactive apps. Smart boards help teachers do just that. **What are the best smart board apps for teachers?** The best smart board apps make teaching easier and learning more engaging. Most smart boards already come with whiteboarding software, but the best type for teachers packs a variety of powerful features that replace physical tools and can be used to enhance every lesson.', 'feedback_history': [\"'Add some info about smart boards\"]}\n",
            "\n",
            "--- 📜 AGENT'S SCRIPT ---\n",
            "**(Intro music fades)**\n",
            "\n",
            "Welcome back to Curious Chronicles, where we unearth the fascinating stories behind the everyday! Today, we’re diving into something you’ve probably seen in countless movies and maybe even a classroom or two: the humble blackboard.\n",
            "\n",
            "Now, you might think this is a pretty straightforward invention, right? But its journey is surprisingly rich. We can thank James Pillans, a Scottish educator, for the first modern blackboard concept around 1801. He simply hung a slate on the wall – genius! But it was the mid-19th century railroad boom that truly propelled blackboards into American classrooms. Suddenly, these affordable tools were everywhere, revolutionizing how lessons were taught.\n",
            "\n",
            "For over a century, the blackboard remained the undisputed king of the classroom, largely unchanged until the 1960s. And get this – a significant historical find occurred at Emerson High School in Oklahoma, where 100-year-old chalkboard lessons were discovered during renovations! It’s a tangible link to the past. More importantly, the blackboard democratized education, drastically cutting down the need for costly paper and pencils. A simple slate, a game-changer for learning!\n",
            "\n",
            "But as technology advanced, so did the classroom. Enter the smart board! These interactive displays combine touchscreen technology, specialized software, and connectivity for dynamic presentations and collaboration. Smart boards offer a whole new world of benefits, from increased student engagement and time-saving features to enhanced collaboration and improved accessibility. They represent the next evolution in how we share knowledge.\n",
            "\n",
            "**(Outro music begins to fade in)**\n",
            "\n",
            "\n",
            "\n",
            "--------------------------------------------------\n",
            "Your feedback (or type 'approve' to finish): Include that the podcast's topic for next week would be coffee beans\n",
            "\n",
            "\n",
            "\n",
            "Updated Feedback History: [\"'Add some info about smart boards\", \"Include that the podcast's topic for next week would be coffee beans\"]\n",
            "\n",
            "\n",
            "\n",
            "Resuming with Config: {'configurable': {'thread_id': 'podcast_thread'}}\n",
            "\n",
            "\n",
            "\n",
            "---🤔 Reflecting on Feedback & Planning Next Action---\n",
            "Input Script: **(Intro music fades)**\n",
            "\n",
            "Welcome back to Curious Chronicles, where we unearth the fascinating storie...\n",
            "Recent Feedback: Include that the podcast's topic for next week would be coffee beans\n",
            "Raw LLM Output: revise\n",
            "Decision: The user's feedback requires 'revise'.\n",
            "\n",
            "\n",
            "---✍️ Refining Script based on Feedback---\n",
            "Current State After Invoke: {'topic': 'The surprising history of the Blackboard', 'podcast_name': 'Curious Chronicles', 'research_material': '# The History of the Classroom Blackboard James Pillans, headmaster and geography teacher at the Old High School in Edinburgh, Scotland, is credited with inventing the first modern blackboard when he hung a large piece of slate on the classroom wall. America’s fast-growing railroad system assured that by the middle of the 19th century, almost every classroom in America had a blackboard, mostly using slate shipped from quarries in Vermont, Maine, Pennsylvania, New York, Maryland and Virginia. Blackboard classroom history remained essentially the same until the 1960s with schools teachers using slate blackboards like their predecessors. * C-SPAN Classroom is an Important Tool for Social Studies Teachers * How Can Teachers Cultivate Social Connection and Empathy in the Classroom?\\n\\n---\\n\\nWhen contractors began work on four classrooms of Emerson High School in Oklahoma, they knew their remodel would improve education — but they never expected it would impact local history. Principal Kishore told The Oklahoman what it was like to show her 85-year-old mother the boards: “She just stood there and cried. Built in 1895, Emerson High School has seen many renovations and improvements throughout the years — but nothing like this has ever been discovered. * Good Morning America (ABC News) - \"Oklahoma High School Stunned to Find 100-Year-Old Chalkboard Lessons (includes link to video story) - **abcnews.go.com**/Lifestyle/oklahoma-high-school-stunned-find-100-year-chalkboard/story? * NewsOK \"Workers discover preserved writings, drawings on slate blackboard at OKC high school\" (Includes video link) - **newsok.com**/article/5425449\\n\\n---\\n\\nIn a world of laptops, tablets and smartphones it’s difficult to see how an invention like the blackboard had such a huge effect on education. Not only did blackboards become very popular very quickly, they required fewer writing materials for schools and students who could not always afford paper and pencils. Before the invention of the blackboard, students did have access to individual slates, which they could write their assignments and answers on. So who deserves credit for the invention of the blackboard? Now, as technology continues to change and advance, we have many more options, including the new clear dry erase board, which allow your room or office to remain cleaner, lighter, and even environmentally-friendly. blackboard, blackboard history, clarus, whiteboard history\\n\\n--- NEW FINDINGS ---\\n\\n• Smart boards are interactive displays that combine touchscreen technology, specialized software, and connectivity options to create dynamic presentation and collaboration tools for education and business settings. • Smart boards offer benefits like increased engagement, time-saving features, enhanced collaboration, and improved accessibility, while considerations for purchase include screen size, resolution, connectivity, and integration with existing technology ecosystems. A smart board is an interactive display that combines touchscreen technology, stylus input, and specialized software to create a dynamic presentation and collaboration tool. Language arts teachers use smart boards for interactive reading comprehension activities where students highlight text, identify literary devices, and make connections between passages. The interactive nature of smart boards fundamentally changes how people engage with presented content.\\n\\n---\\n\\nA smart board is an interactive whiteboard that uses multiple touch points and advanced software to help teachers engage students and make teaching and learning more dynamic. Smart boards can also be used to facilitate classroom management, while allowing students to interact with digital content and each other. Smart board size and resolution help make smart boards a great choice for classrooms, meeting rooms, and other settings, as they enhance student engagement and allow for interactive learning. Smart boards wouldn’t just help teachers but also students as they can interact with multimedia content and access online resources. A smart board is a digital whiteboard in the classroom that enhances the way teachers and students interact with multimedia content.\\n\\n---\\n\\nWhat is a smart board? * What is a smart board? smart board * Smart board for classrooms: enhanced active learning Smart Board 101 for Teachers ## What is a smart board? smart board **How do smart board apps help teachers?** Smart boards are great tools for teachers looking to increase active participation and learning retention among their students with interactive apps. Smart boards help teachers do just that. **What are the best smart board apps for teachers?** The best smart board apps make teaching easier and learning more engaging. Most smart boards already come with whiteboarding software, but the best type for teachers packs a variety of powerful features that replace physical tools and can be used to enhance every lesson.', 'key_points': ['James Pillans is credited with inventing the first modern blackboard using slate.', 'Blackboards became widespread in American classrooms by the mid-19th century due to the railroad system.', 'A significant historical find occurred at Emerson High School in Oklahoma, where 100-year-old chalkboard lessons were discovered during renovations.', 'Smart boards are interactive displays that combine touchscreen technology, specialized software, and connectivity for dynamic presentations and collaboration.', 'Smart boards offer benefits such as increased student engagement, time-saving features, enhanced collaboration, and improved accessibility.'], 'script': \"**(Intro music fades)**\\n\\nWelcome back to Curious Chronicles, where we unearth the fascinating stories behind the everyday! Today, we're celebrating the humble blackboard. Did you know Scottish educator James Pillans hung up the first modern slate around 1801? It was the mid-19th century railroad boom that truly brought them into American classrooms, making education more accessible. Imagine finding 100-year-old lessons still on a chalkboard, like they did at Emerson High School!\\n\\nBut the classroom keeps evolving. Now, we have smart boards! These interactive displays are a leap forward, offering dynamic presentations and boosting student engagement. They're a testament to how we share knowledge.\\n\\nAnd speaking of everyday wonders, next week on Curious Chronicles, we're brewing up a fascinating story about… coffee beans!\\n\\n**(Outro music begins to fade in)**\", 'new_research': None, 'feedback_history': [\"'Add some info about smart boards\", \"Include that the podcast's topic for next week would be coffee beans\"]}\n",
            "\n",
            "--- 📜 AGENT'S SCRIPT ---\n",
            "**(Intro music fades)**\n",
            "\n",
            "Welcome back to Curious Chronicles, where we unearth the fascinating stories behind the everyday! Today, we're celebrating the humble blackboard. Did you know Scottish educator James Pillans hung up the first modern slate around 1801? It was the mid-19th century railroad boom that truly brought them into American classrooms, making education more accessible. Imagine finding 100-year-old lessons still on a chalkboard, like they did at Emerson High School!\n",
            "\n",
            "But the classroom keeps evolving. Now, we have smart boards! These interactive displays are a leap forward, offering dynamic presentations and boosting student engagement. They're a testament to how we share knowledge.\n",
            "\n",
            "And speaking of everyday wonders, next week on Curious Chronicles, we're brewing up a fascinating story about… coffee beans!\n",
            "\n",
            "**(Outro music begins to fade in)**\n",
            "\n",
            "\n",
            "\n",
            "--------------------------------------------------\n",
            "Your feedback (or type 'approve' to finish): 'What about Google Jamboard?\n",
            "\n",
            "\n",
            "\n",
            "Updated Feedback History: [\"'Add some info about smart boards\", \"Include that the podcast's topic for next week would be coffee beans\", \"'What about Google Jamboard?\"]\n",
            "\n",
            "\n",
            "\n",
            "Resuming with Config: {'configurable': {'thread_id': 'podcast_thread'}}\n",
            "\n",
            "\n",
            "\n",
            "---🤔 Reflecting on Feedback & Planning Next Action---\n",
            "Input Script: **(Intro music fades)**\n",
            "\n",
            "Welcome back to Curious Chronicles, where we unearth the fascinating storie...\n",
            "Recent Feedback: 'What about Google Jamboard?\n",
            "Raw LLM Output: research\n",
            "Decision: The user's feedback requires 'research'.\n",
            "\n",
            "\n",
            "--- Performing targeted research for: ''What about Google Jamboard?'---\n",
            "\n",
            "---📚 Updating Research Material---\n",
            "\n",
            "\n",
            "---🔬 Integrating New Research into Script---\n",
            "Current State After Invoke: {'topic': 'The surprising history of the Blackboard', 'podcast_name': 'Curious Chronicles', 'research_material': '# The History of the Classroom Blackboard James Pillans, headmaster and geography teacher at the Old High School in Edinburgh, Scotland, is credited with inventing the first modern blackboard when he hung a large piece of slate on the classroom wall. America’s fast-growing railroad system assured that by the middle of the 19th century, almost every classroom in America had a blackboard, mostly using slate shipped from quarries in Vermont, Maine, Pennsylvania, New York, Maryland and Virginia. Blackboard classroom history remained essentially the same until the 1960s with schools teachers using slate blackboards like their predecessors. * C-SPAN Classroom is an Important Tool for Social Studies Teachers * How Can Teachers Cultivate Social Connection and Empathy in the Classroom?\\n\\n---\\n\\nWhen contractors began work on four classrooms of Emerson High School in Oklahoma, they knew their remodel would improve education — but they never expected it would impact local history. Principal Kishore told The Oklahoman what it was like to show her 85-year-old mother the boards: “She just stood there and cried. Built in 1895, Emerson High School has seen many renovations and improvements throughout the years — but nothing like this has ever been discovered. * Good Morning America (ABC News) - \"Oklahoma High School Stunned to Find 100-Year-Old Chalkboard Lessons (includes link to video story) - **abcnews.go.com**/Lifestyle/oklahoma-high-school-stunned-find-100-year-chalkboard/story? * NewsOK \"Workers discover preserved writings, drawings on slate blackboard at OKC high school\" (Includes video link) - **newsok.com**/article/5425449\\n\\n---\\n\\nIn a world of laptops, tablets and smartphones it’s difficult to see how an invention like the blackboard had such a huge effect on education. Not only did blackboards become very popular very quickly, they required fewer writing materials for schools and students who could not always afford paper and pencils. Before the invention of the blackboard, students did have access to individual slates, which they could write their assignments and answers on. So who deserves credit for the invention of the blackboard? Now, as technology continues to change and advance, we have many more options, including the new clear dry erase board, which allow your room or office to remain cleaner, lighter, and even environmentally-friendly. blackboard, blackboard history, clarus, whiteboard history\\n\\n--- NEW FINDINGS ---\\n\\n• Smart boards are interactive displays that combine touchscreen technology, specialized software, and connectivity options to create dynamic presentation and collaboration tools for education and business settings. • Smart boards offer benefits like increased engagement, time-saving features, enhanced collaboration, and improved accessibility, while considerations for purchase include screen size, resolution, connectivity, and integration with existing technology ecosystems. A smart board is an interactive display that combines touchscreen technology, stylus input, and specialized software to create a dynamic presentation and collaboration tool. Language arts teachers use smart boards for interactive reading comprehension activities where students highlight text, identify literary devices, and make connections between passages. The interactive nature of smart boards fundamentally changes how people engage with presented content.\\n\\n---\\n\\nA smart board is an interactive whiteboard that uses multiple touch points and advanced software to help teachers engage students and make teaching and learning more dynamic. Smart boards can also be used to facilitate classroom management, while allowing students to interact with digital content and each other. Smart board size and resolution help make smart boards a great choice for classrooms, meeting rooms, and other settings, as they enhance student engagement and allow for interactive learning. Smart boards wouldn’t just help teachers but also students as they can interact with multimedia content and access online resources. A smart board is a digital whiteboard in the classroom that enhances the way teachers and students interact with multimedia content.\\n\\n---\\n\\nWhat is a smart board? * What is a smart board? smart board * Smart board for classrooms: enhanced active learning Smart Board 101 for Teachers ## What is a smart board? smart board **How do smart board apps help teachers?** Smart boards are great tools for teachers looking to increase active participation and learning retention among their students with interactive apps. Smart boards help teachers do just that. **What are the best smart board apps for teachers?** The best smart board apps make teaching easier and learning more engaging. Most smart boards already come with whiteboarding software, but the best type for teachers packs a variety of powerful features that replace physical tools and can be used to enhance every lesson.\\n\\n--- NEW FINDINGS ---\\n\\n# Google Jamboard is winding down The Jamboard application reached its end of life on December 31, 2024 across Web, iOS, Android and Google Meet devices. You\\'re no longer able to create new or edit existing jams on any platform, including the web, iPhone, iPad, Android, and Jamboard devices. We recommend that you take proactive action to export your jams to PDF from Google Drive before we delete jams. ## What if one of my jams was not converted to a PDF? Sometimes the contents of a jam file may be corrupted, which prevents us from creating a PDF. You can use third-party whiteboards on the Desk 27 and Board 65 using Google Meet add-ons. Google Help * Help Center* Community* Jamboard\\n\\n---\\n\\nOn 25 October 2016, Product Manager of G Suite TJ Varghese announced Jamboard on Google\\'s official blog.\\n\\n---\\n\\nUsing the Jamboard platform from a personal device is useful and accessible thanks to interactive features such as sticky notes, digital pens, and a laser for presentations. GSE professor Jo Boaler tasks students with synchronous activities through Jamboard in her classes because “inside Jamboard, students can be drawing and working on problems and collaborating together.” In an asynchronous setting, Jamboard can be used to illustrate ideas during the lecture, collaborate at sporadic intervals, and share ideas on a continuous collaborative project. GSE Professor Catalina Martinez “had students create a Jamboard to reflect on some of the course learning,” and “[compile] course takeaways using different course artifacts and their reflections.” This may be useful for instructors by enabling them to see themes reflected in their teaching, as well as those which could use some work.', 'key_points': ['James Pillans is credited with inventing the first modern blackboard using slate.', 'Blackboards became widespread in American classrooms by the mid-19th century due to the railroad system.', 'Smart boards are interactive displays that enhance engagement, collaboration, and accessibility in educational settings.', 'Smart boards offer benefits like increased engagement, time-saving features, and improved accessibility.', 'Google Jamboard, an interactive whiteboard application, reached its end of life on December 31, 2024.'], 'script': \"**(Intro music fades)**\\n\\nWelcome back to Curious Chronicles, where we unearth the fascinating stories behind the everyday! Today, we're celebrating the humble blackboard. Did you know Scottish educator James Pillans is credited with inventing the first modern blackboard using slate, around 1801? It was the mid-19th century railroad boom that truly brought them into American classrooms, making education more accessible. Imagine finding 100-year-old lessons still on a chalkboard, like they did at Emerson High School!\\n\\nBut the classroom keeps evolving. Now, we have smart boards! These interactive displays are a leap forward, offering dynamic presentations and boosting student engagement. They're a testament to how we share knowledge, offering benefits like increased engagement, time-saving features, and improved accessibility. What about Google Jamboard? Well, that interactive whiteboard application reached its end of life on December 31, 2024. Still, smart boards are a testament to how we share knowledge.\\n\\nAnd speaking of everyday wonders, next week on Curious Chronicles, we're brewing up a fascinating story about… coffee beans!\\n\\n**(Outro music begins to fade in)**\", 'new_research': \"# Google Jamboard is winding down The Jamboard application reached its end of life on December 31, 2024 across Web, iOS, Android and Google Meet devices. You're no longer able to create new or edit existing jams on any platform, including the web, iPhone, iPad, Android, and Jamboard devices. We recommend that you take proactive action to export your jams to PDF from Google Drive before we delete jams. ## What if one of my jams was not converted to a PDF? Sometimes the contents of a jam file may be corrupted, which prevents us from creating a PDF. You can use third-party whiteboards on the Desk 27 and Board 65 using Google Meet add-ons. Google Help * Help Center* Community* Jamboard\\n\\n---\\n\\nOn 25 October 2016, Product Manager of G Suite TJ Varghese announced Jamboard on Google's official blog.\\n\\n---\\n\\nUsing the Jamboard platform from a personal device is useful and accessible thanks to interactive features such as sticky notes, digital pens, and a laser for presentations. GSE professor Jo Boaler tasks students with synchronous activities through Jamboard in her classes because “inside Jamboard, students can be drawing and working on problems and collaborating together.” In an asynchronous setting, Jamboard can be used to illustrate ideas during the lecture, collaborate at sporadic intervals, and share ideas on a continuous collaborative project. GSE Professor Catalina Martinez “had students create a Jamboard to reflect on some of the course learning,” and “[compile] course takeaways using different course artifacts and their reflections.” This may be useful for instructors by enabling them to see themes reflected in their teaching, as well as those which could use some work.\", 'feedback_history': [\"'Add some info about smart boards\", \"Include that the podcast's topic for next week would be coffee beans\", \"'What about Google Jamboard?\"]}\n",
            "\n",
            "--- 📜 AGENT'S SCRIPT ---\n",
            "**(Intro music fades)**\n",
            "\n",
            "Welcome back to Curious Chronicles, where we unearth the fascinating stories behind the everyday! Today, we're celebrating the humble blackboard. Did you know Scottish educator James Pillans is credited with inventing the first modern blackboard using slate, around 1801? It was the mid-19th century railroad boom that truly brought them into American classrooms, making education more accessible. Imagine finding 100-year-old lessons still on a chalkboard, like they did at Emerson High School!\n",
            "\n",
            "But the classroom keeps evolving. Now, we have smart boards! These interactive displays are a leap forward, offering dynamic presentations and boosting student engagement. They're a testament to how we share knowledge, offering benefits like increased engagement, time-saving features, and improved accessibility. What about Google Jamboard? Well, that interactive whiteboard application reached its end of life on December 31, 2024. Still, smart boards are a testament to how we share knowledge.\n",
            "\n",
            "And speaking of everyday wonders, next week on Curious Chronicles, we're brewing up a fascinating story about… coffee beans!\n",
            "\n",
            "**(Outro music begins to fade in)**\n",
            "\n",
            "\n",
            "\n",
            "--------------------------------------------------\n",
            "Your feedback (or type 'approve' to finish): can you also add that next week podcast will air at 12 pm.\n",
            "\n",
            "\n",
            "\n",
            "Updated Feedback History: [\"'Add some info about smart boards\", \"Include that the podcast's topic for next week would be coffee beans\", \"'What about Google Jamboard?\", 'can you also add that next week podcast will air at 12 pm.']\n",
            "\n",
            "\n",
            "\n",
            "Resuming with Config: {'configurable': {'thread_id': 'podcast_thread'}}\n",
            "\n",
            "\n",
            "\n",
            "---🤔 Reflecting on Feedback & Planning Next Action---\n",
            "Input Script: **(Intro music fades)**\n",
            "\n",
            "Welcome back to Curious Chronicles, where we unearth the fascinating storie...\n",
            "Recent Feedback: can you also add that next week podcast will air at 12 pm.\n",
            "Raw LLM Output: revise\n",
            "Decision: The user's feedback requires 'revise'.\n",
            "\n",
            "\n",
            "---✍️ Refining Script based on Feedback---\n",
            "Current State After Invoke: {'topic': 'The surprising history of the Blackboard', 'podcast_name': 'Curious Chronicles', 'research_material': '# The History of the Classroom Blackboard James Pillans, headmaster and geography teacher at the Old High School in Edinburgh, Scotland, is credited with inventing the first modern blackboard when he hung a large piece of slate on the classroom wall. America’s fast-growing railroad system assured that by the middle of the 19th century, almost every classroom in America had a blackboard, mostly using slate shipped from quarries in Vermont, Maine, Pennsylvania, New York, Maryland and Virginia. Blackboard classroom history remained essentially the same until the 1960s with schools teachers using slate blackboards like their predecessors. * C-SPAN Classroom is an Important Tool for Social Studies Teachers * How Can Teachers Cultivate Social Connection and Empathy in the Classroom?\\n\\n---\\n\\nWhen contractors began work on four classrooms of Emerson High School in Oklahoma, they knew their remodel would improve education — but they never expected it would impact local history. Principal Kishore told The Oklahoman what it was like to show her 85-year-old mother the boards: “She just stood there and cried. Built in 1895, Emerson High School has seen many renovations and improvements throughout the years — but nothing like this has ever been discovered. * Good Morning America (ABC News) - \"Oklahoma High School Stunned to Find 100-Year-Old Chalkboard Lessons (includes link to video story) - **abcnews.go.com**/Lifestyle/oklahoma-high-school-stunned-find-100-year-chalkboard/story? * NewsOK \"Workers discover preserved writings, drawings on slate blackboard at OKC high school\" (Includes video link) - **newsok.com**/article/5425449\\n\\n---\\n\\nIn a world of laptops, tablets and smartphones it’s difficult to see how an invention like the blackboard had such a huge effect on education. Not only did blackboards become very popular very quickly, they required fewer writing materials for schools and students who could not always afford paper and pencils. Before the invention of the blackboard, students did have access to individual slates, which they could write their assignments and answers on. So who deserves credit for the invention of the blackboard? Now, as technology continues to change and advance, we have many more options, including the new clear dry erase board, which allow your room or office to remain cleaner, lighter, and even environmentally-friendly. blackboard, blackboard history, clarus, whiteboard history\\n\\n--- NEW FINDINGS ---\\n\\n• Smart boards are interactive displays that combine touchscreen technology, specialized software, and connectivity options to create dynamic presentation and collaboration tools for education and business settings. • Smart boards offer benefits like increased engagement, time-saving features, enhanced collaboration, and improved accessibility, while considerations for purchase include screen size, resolution, connectivity, and integration with existing technology ecosystems. A smart board is an interactive display that combines touchscreen technology, stylus input, and specialized software to create a dynamic presentation and collaboration tool. Language arts teachers use smart boards for interactive reading comprehension activities where students highlight text, identify literary devices, and make connections between passages. The interactive nature of smart boards fundamentally changes how people engage with presented content.\\n\\n---\\n\\nA smart board is an interactive whiteboard that uses multiple touch points and advanced software to help teachers engage students and make teaching and learning more dynamic. Smart boards can also be used to facilitate classroom management, while allowing students to interact with digital content and each other. Smart board size and resolution help make smart boards a great choice for classrooms, meeting rooms, and other settings, as they enhance student engagement and allow for interactive learning. Smart boards wouldn’t just help teachers but also students as they can interact with multimedia content and access online resources. A smart board is a digital whiteboard in the classroom that enhances the way teachers and students interact with multimedia content.\\n\\n---\\n\\nWhat is a smart board? * What is a smart board? smart board * Smart board for classrooms: enhanced active learning Smart Board 101 for Teachers ## What is a smart board? smart board **How do smart board apps help teachers?** Smart boards are great tools for teachers looking to increase active participation and learning retention among their students with interactive apps. Smart boards help teachers do just that. **What are the best smart board apps for teachers?** The best smart board apps make teaching easier and learning more engaging. Most smart boards already come with whiteboarding software, but the best type for teachers packs a variety of powerful features that replace physical tools and can be used to enhance every lesson.\\n\\n--- NEW FINDINGS ---\\n\\n# Google Jamboard is winding down The Jamboard application reached its end of life on December 31, 2024 across Web, iOS, Android and Google Meet devices. You\\'re no longer able to create new or edit existing jams on any platform, including the web, iPhone, iPad, Android, and Jamboard devices. We recommend that you take proactive action to export your jams to PDF from Google Drive before we delete jams. ## What if one of my jams was not converted to a PDF? Sometimes the contents of a jam file may be corrupted, which prevents us from creating a PDF. You can use third-party whiteboards on the Desk 27 and Board 65 using Google Meet add-ons. Google Help * Help Center* Community* Jamboard\\n\\n---\\n\\nOn 25 October 2016, Product Manager of G Suite TJ Varghese announced Jamboard on Google\\'s official blog.\\n\\n---\\n\\nUsing the Jamboard platform from a personal device is useful and accessible thanks to interactive features such as sticky notes, digital pens, and a laser for presentations. GSE professor Jo Boaler tasks students with synchronous activities through Jamboard in her classes because “inside Jamboard, students can be drawing and working on problems and collaborating together.” In an asynchronous setting, Jamboard can be used to illustrate ideas during the lecture, collaborate at sporadic intervals, and share ideas on a continuous collaborative project. GSE Professor Catalina Martinez “had students create a Jamboard to reflect on some of the course learning,” and “[compile] course takeaways using different course artifacts and their reflections.” This may be useful for instructors by enabling them to see themes reflected in their teaching, as well as those which could use some work.', 'key_points': ['James Pillans is credited with inventing the first modern blackboard using slate.', 'Blackboards became widespread in American classrooms by the mid-19th century due to the railroad system.', 'Smart boards are interactive displays that enhance engagement, collaboration, and accessibility in educational settings.', 'Smart boards offer benefits like increased engagement, time-saving features, and improved accessibility.', 'Google Jamboard, an interactive whiteboard application, reached its end of life on December 31, 2024.'], 'script': \"**(Intro music fades)**\\n\\nWelcome back to Curious Chronicles, where we unearth the fascinating stories behind the everyday! Today, we're celebrating the humble blackboard. Did you know Scottish educator James Pillans is credited with inventing the first modern blackboard using slate, around 1801? The mid-19th century railroad boom truly brought them into American classrooms, making education more accessible.\\n\\nBut the classroom keeps evolving! Now, we have smart boards – interactive displays that are a leap forward, offering dynamic presentations and boosting student engagement. They provide benefits like increased engagement, time-saving features, and improved accessibility. While Google Jamboard, an interactive whiteboard application, reached its end of life on December 31, 2024, smart boards continue to revolutionize how we share knowledge.\\n\\nAnd speaking of everyday wonders, next week on Curious Chronicles, we're brewing up a fascinating story about… coffee beans! Join us next week at 12 PM for another episode!\\n\\n**(Outro music begins to fade in)**\", 'new_research': None, 'feedback_history': [\"'Add some info about smart boards\", \"Include that the podcast's topic for next week would be coffee beans\", \"'What about Google Jamboard?\", 'can you also add that next week podcast will air at 12 pm.']}\n",
            "\n",
            "--- 📜 AGENT'S SCRIPT ---\n",
            "**(Intro music fades)**\n",
            "\n",
            "Welcome back to Curious Chronicles, where we unearth the fascinating stories behind the everyday! Today, we're celebrating the humble blackboard. Did you know Scottish educator James Pillans is credited with inventing the first modern blackboard using slate, around 1801? The mid-19th century railroad boom truly brought them into American classrooms, making education more accessible.\n",
            "\n",
            "But the classroom keeps evolving! Now, we have smart boards – interactive displays that are a leap forward, offering dynamic presentations and boosting student engagement. They provide benefits like increased engagement, time-saving features, and improved accessibility. While Google Jamboard, an interactive whiteboard application, reached its end of life on December 31, 2024, smart boards continue to revolutionize how we share knowledge.\n",
            "\n",
            "And speaking of everyday wonders, next week on Curious Chronicles, we're brewing up a fascinating story about… coffee beans! Join us next week at 12 PM for another episode!\n",
            "\n",
            "**(Outro music begins to fade in)**\n",
            "\n",
            "\n",
            "\n",
            "--------------------------------------------------\n",
            "Your feedback (or type 'approve' to finish): approve\n",
            "\n",
            "--- ✅ Script Approved. Final Version: ---\n",
            "**(Intro music fades)**\n",
            "\n",
            "Welcome back to Curious Chronicles, where we unearth the fascinating stories behind the everyday! Today, we're celebrating the humble blackboard. Did you know Scottish educator James Pillans is credited with inventing the first modern blackboard using slate, around 1801? The mid-19th century railroad boom truly brought them into American classrooms, making education more accessible.\n",
            "\n",
            "But the classroom keeps evolving! Now, we have smart boards – interactive displays that are a leap forward, offering dynamic presentations and boosting student engagement. They provide benefits like increased engagement, time-saving features, and improved accessibility. While Google Jamboard, an interactive whiteboard application, reached its end of life on December 31, 2024, smart boards continue to revolutionize how we share knowledge.\n",
            "\n",
            "And speaking of everyday wonders, next week on Curious Chronicles, we're brewing up a fascinating story about… coffee beans! Join us next week at 12 PM for another episode!\n",
            "\n",
            "**(Outro music begins to fade in)**\n"
          ]
        }
      ]
    },
    {
      "cell_type": "markdown",
      "source": [
        "### A Practical Example: Tracing Our Feedback Session\n",
        "\n",
        "The agent's intelligence was demonstrated perfectly during our interactive session. Here's a breakdown of the feedback we provided and how the agent's workflow allowed it to respond correctly each time.\n",
        "\n",
        "#### First Feedback: A Factual Request\n",
        "\n",
        "*   **User's Action**: We provided the feedback: `\"add some info about smart boards\"`.\n",
        "*   **Agent's Thought Process**: The graph resumed and moved to the `reflector` node. The `reflector` analyzed the feedback and correctly identified it as a request for new factual information that was not in the original research. It set its decision to `\"research\"`.\n",
        "*   **Agent's Action**: The agent took **Path C (The \"Re-Research\" Loop)**.\n",
        "    1. It went to the `researcher` to search for \"smart boards.\"\n",
        "    2. It updated its knowledge base in `research_updater`.\n",
        "    3. It created new key points in `synthesizer`.\n",
        "    4. It re-generated the script from scratch in `writer` using the new, enriched information, then paused for more feedback.\n",
        "\n",
        "#### Second Feedback: A Creative Request\n",
        "\n",
        "*   **User's Action**: We provided the feedback: `\"Include that the podcast's topic for next week would be coffee beans\"`.\n",
        "*   **Agent's Thought Process**: The graph resumed and moved to the `reflector` node again. This time, it recognized the feedback as a stylistic/creative change—not a request for new facts. It correctly set its decision to `\"revise\"`. Crucially, it also **cleared the `new_research` field** in the state to signal that no new information was added.\n",
        "*   **Agent's Action**: The agent took **Path D (The \"Simple Revision\" Loop)**.\n",
        "    1. It moved directly from the `reflector` back to the `writer`.\n",
        "    2. The `writer` node's internal logic saw that `new_research` was empty and executed its \"refine\" branch, skillfully weaving the mention of \"coffee beans\" into the existing script's conclusion.\n",
        "    3. It then paused, presenting the final, polished script.\n",
        "\n",
        "This session perfectly illustrates the power of our final graph architecture. The agent correctly distinguished between needing to learn and needing to edit, choosing the most efficient path every time to successfully incorporate all user feedback."
      ],
      "metadata": {
        "id": "O-sR1rGpzqCu"
      }
    },
    {
      "cell_type": "code",
      "source": [
        "# The final State with all the fields\n",
        "final_state"
      ],
      "metadata": {
        "colab": {
          "base_uri": "https://localhost:8080/"
        },
        "id": "PVfpT-hQBDBP",
        "outputId": "e674497d-c0b5-4452-85b3-fa5be8544b7b"
      },
      "execution_count": 54,
      "outputs": [
        {
          "output_type": "execute_result",
          "data": {
            "text/plain": [
              "{'topic': 'The surprising history of the Blackboard',\n",
              " 'podcast_name': 'Curious Chronicles',\n",
              " 'research_material': '# The History of the Classroom Blackboard James Pillans, headmaster and geography teacher at the Old High School in Edinburgh, Scotland, is credited with inventing the first modern blackboard when he hung a large piece of slate on the classroom wall. America’s fast-growing railroad system assured that by the middle of the 19th century, almost every classroom in America had a blackboard, mostly using slate shipped from quarries in Vermont, Maine, Pennsylvania, New York, Maryland and Virginia. Blackboard classroom history remained essentially the same until the 1960s with schools teachers using slate blackboards like their predecessors. * C-SPAN Classroom is an Important Tool for Social Studies Teachers * How Can Teachers Cultivate Social Connection and Empathy in the Classroom?\\n\\n---\\n\\nWhen contractors began work on four classrooms of Emerson High School in Oklahoma, they knew their remodel would improve education — but they never expected it would impact local history. Principal Kishore told The Oklahoman what it was like to show her 85-year-old mother the boards: “She just stood there and cried. Built in 1895, Emerson High School has seen many renovations and improvements throughout the years — but nothing like this has ever been discovered. * Good Morning America (ABC News) - \"Oklahoma High School Stunned to Find 100-Year-Old Chalkboard Lessons (includes link to video story) - **abcnews.go.com**/Lifestyle/oklahoma-high-school-stunned-find-100-year-chalkboard/story? * NewsOK \"Workers discover preserved writings, drawings on slate blackboard at OKC high school\" (Includes video link) - **newsok.com**/article/5425449\\n\\n---\\n\\nIn a world of laptops, tablets and smartphones it’s difficult to see how an invention like the blackboard had such a huge effect on education. Not only did blackboards become very popular very quickly, they required fewer writing materials for schools and students who could not always afford paper and pencils. Before the invention of the blackboard, students did have access to individual slates, which they could write their assignments and answers on. So who deserves credit for the invention of the blackboard? Now, as technology continues to change and advance, we have many more options, including the new clear dry erase board, which allow your room or office to remain cleaner, lighter, and even environmentally-friendly. blackboard, blackboard history, clarus, whiteboard history\\n\\n--- NEW FINDINGS ---\\n\\n• Smart boards are interactive displays that combine touchscreen technology, specialized software, and connectivity options to create dynamic presentation and collaboration tools for education and business settings. • Smart boards offer benefits like increased engagement, time-saving features, enhanced collaboration, and improved accessibility, while considerations for purchase include screen size, resolution, connectivity, and integration with existing technology ecosystems. A smart board is an interactive display that combines touchscreen technology, stylus input, and specialized software to create a dynamic presentation and collaboration tool. Language arts teachers use smart boards for interactive reading comprehension activities where students highlight text, identify literary devices, and make connections between passages. The interactive nature of smart boards fundamentally changes how people engage with presented content.\\n\\n---\\n\\nA smart board is an interactive whiteboard that uses multiple touch points and advanced software to help teachers engage students and make teaching and learning more dynamic. Smart boards can also be used to facilitate classroom management, while allowing students to interact with digital content and each other. Smart board size and resolution help make smart boards a great choice for classrooms, meeting rooms, and other settings, as they enhance student engagement and allow for interactive learning. Smart boards wouldn’t just help teachers but also students as they can interact with multimedia content and access online resources. A smart board is a digital whiteboard in the classroom that enhances the way teachers and students interact with multimedia content.\\n\\n---\\n\\nWhat is a smart board? * What is a smart board? smart board * Smart board for classrooms: enhanced active learning Smart Board 101 for Teachers ## What is a smart board? smart board **How do smart board apps help teachers?** Smart boards are great tools for teachers looking to increase active participation and learning retention among their students with interactive apps. Smart boards help teachers do just that. **What are the best smart board apps for teachers?** The best smart board apps make teaching easier and learning more engaging. Most smart boards already come with whiteboarding software, but the best type for teachers packs a variety of powerful features that replace physical tools and can be used to enhance every lesson.\\n\\n--- NEW FINDINGS ---\\n\\n# Google Jamboard is winding down The Jamboard application reached its end of life on December 31, 2024 across Web, iOS, Android and Google Meet devices. You\\'re no longer able to create new or edit existing jams on any platform, including the web, iPhone, iPad, Android, and Jamboard devices. We recommend that you take proactive action to export your jams to PDF from Google Drive before we delete jams. ## What if one of my jams was not converted to a PDF? Sometimes the contents of a jam file may be corrupted, which prevents us from creating a PDF. You can use third-party whiteboards on the Desk 27 and Board 65 using Google Meet add-ons. Google Help * Help Center* Community* Jamboard\\n\\n---\\n\\nOn 25 October 2016, Product Manager of G Suite TJ Varghese announced Jamboard on Google\\'s official blog.\\n\\n---\\n\\nUsing the Jamboard platform from a personal device is useful and accessible thanks to interactive features such as sticky notes, digital pens, and a laser for presentations. GSE professor Jo Boaler tasks students with synchronous activities through Jamboard in her classes because “inside Jamboard, students can be drawing and working on problems and collaborating together.” In an asynchronous setting, Jamboard can be used to illustrate ideas during the lecture, collaborate at sporadic intervals, and share ideas on a continuous collaborative project. GSE Professor Catalina Martinez “had students create a Jamboard to reflect on some of the course learning,” and “[compile] course takeaways using different course artifacts and their reflections.” This may be useful for instructors by enabling them to see themes reflected in their teaching, as well as those which could use some work.',\n",
              " 'key_points': ['James Pillans is credited with inventing the first modern blackboard using slate.',\n",
              "  'Blackboards became widespread in American classrooms by the mid-19th century due to the railroad system.',\n",
              "  'Smart boards are interactive displays that enhance engagement, collaboration, and accessibility in educational settings.',\n",
              "  'Smart boards offer benefits like increased engagement, time-saving features, and improved accessibility.',\n",
              "  'Google Jamboard, an interactive whiteboard application, reached its end of life on December 31, 2024.'],\n",
              " 'script': \"**(Intro music fades)**\\n\\nWelcome back to Curious Chronicles, where we unearth the fascinating stories behind the everyday! Today, we're celebrating the humble blackboard. Did you know Scottish educator James Pillans is credited with inventing the first modern blackboard using slate, around 1801? The mid-19th century railroad boom truly brought them into American classrooms, making education more accessible.\\n\\nBut the classroom keeps evolving! Now, we have smart boards – interactive displays that are a leap forward, offering dynamic presentations and boosting student engagement. They provide benefits like increased engagement, time-saving features, and improved accessibility. While Google Jamboard, an interactive whiteboard application, reached its end of life on December 31, 2024, smart boards continue to revolutionize how we share knowledge.\\n\\nAnd speaking of everyday wonders, next week on Curious Chronicles, we're brewing up a fascinating story about… coffee beans! Join us next week at 12 PM for another episode!\\n\\n**(Outro music begins to fade in)**\",\n",
              " 'new_research': None,\n",
              " 'feedback_history': [\"'Add some info about smart boards\",\n",
              "  \"Include that the podcast's topic for next week would be coffee beans\",\n",
              "  \"'What about Google Jamboard?\",\n",
              "  'can you also add that next week podcast will air at 12 pm.']}"
            ]
          },
          "metadata": {},
          "execution_count": 54
        }
      ]
    },
    {
      "cell_type": "markdown",
      "source": [
        "This final state provides a perfect snapshot of the agent's memory after completing its tasks. It clearly shows how the new findings from the research loop were successfully integrated into the research_material, and how subsequent fields like key_points and the final script were updated to reflect this new, comprehensive knowledge base."
      ],
      "metadata": {
        "id": "kqb99YDH1hsb"
      }
    }
  ]
}