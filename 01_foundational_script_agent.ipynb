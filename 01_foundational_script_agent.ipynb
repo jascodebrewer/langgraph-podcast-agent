{
  "nbformat": 4,
  "nbformat_minor": 0,
  "metadata": {
    "colab": {
      "provenance": []
    },
    "kernelspec": {
      "name": "python3",
      "display_name": "Python 3"
    },
    "language_info": {
      "name": "python"
    }
  },
  "cells": [
    {
      "cell_type": "markdown",
      "metadata": {
        "id": "7b2499b2"
      },
      "source": [
        "### Main Parts and Functions of the Notebook\n",
        "\n",
        "This notebook demonstrates how to create a simple podcast generation workflow using LangChain, LangGraph, and the Tavily API.\n",
        "\n",
        "Here's a breakdown of the key components:\n",
        "\n",
        "1.  **Setting up APIs:**\n",
        "    *   Retrieving API keys for Gemini and Tavily from Colab's user data secrets.\n",
        "    *   Installing necessary libraries (`langchain_google_genai`, `langchain`, `tavily-python`, `langgraph`).\n",
        "    *   Initializing the `ChatGoogleGenerativeAI` model for text generation.\n",
        "    *   Initializing the `TavilyClient` for web search.\n",
        "\n",
        "2.  **Defining the State:**\n",
        "    *   The `PodcastState` TypedDict defines the structure of the data that will be passed between different steps in the workflow. It includes fields for the `topic`, `research_material`, `key_points`, and `script`.\n",
        "\n",
        "3.  **Defining the Nodes (Functions):**\n",
        "    *   `researcher_node`: This function takes the `topic` from the state, uses the Tavily API to perform a web search, and updates the state with the gathered `research_material`.\n",
        "    *   `synthesizer_node`: This function takes the `research_material`, uses the language model (`llm`) to extract key points, and updates the state with a list of `key_points`.\n",
        "    *   `writer_node`: This function takes the `topic` and `key_points`, uses the language model (`llm`) to generate a podcast monologue script, and updates the state with the final `script`.\n",
        "\n",
        "4.  **Building the Graph:**\n",
        "    *   `StateGraph`: This is the core component from LangGraph that allows us to define a directed graph representing the workflow.\n",
        "    *   Adding Nodes: The `researcher_node`, `synthesizer_node`, and `writer_node` are added as nodes to the graph.\n",
        "    *   Defining Edges: The `add_edge` method specifies the flow of execution between the nodes, starting from `START`, going through `researcher`, `synthesizer`, and `writer`, and ending at `END`.\n",
        "\n",
        "5.  **Compiling and Running the Graph:**\n",
        "    *   `graph.compile()`: This compiles the defined graph into an executable application.\n",
        "    *   `app.invoke({'topic': 'Future of AI'})`: This runs the compiled graph with an initial state, in this case, setting the `topic` to 'Future of AI'. The graph then executes the nodes in the defined order, updating the state as it goes.\n",
        "\n",
        "6.  **Output:**\n",
        "    *   `final_state['script']`: Accessing the `script` key in the final state retrieves the generated podcast monologue."
      ]
    },
    {
      "cell_type": "code",
      "source": [
        "from google.colab import userdata\n",
        "\n",
        "# Retrieve the secret key for the Gemini API from Colab's user data secrets.\n",
        "gemini_api_key=userdata.get(\"GEMINI_API_KEY\")"
      ],
      "metadata": {
        "id": "gQ4hvdg9kmLn"
      },
      "execution_count": null,
      "outputs": []
    },
    {
      "cell_type": "code",
      "source": [
        "# Install the langchain_google_genai library, which provides integration with Google's Generative AI models for LangChain.\n",
        "!pip install langchain_google_genai"
      ],
      "metadata": {
        "id": "nSyPEYaok3bW"
      },
      "execution_count": null,
      "outputs": []
    },
    {
      "cell_type": "code",
      "source": [
        "# Install the langchain library, which is a framework for developing applications powered by language models.\n",
        "!pip install langchain"
      ],
      "metadata": {
        "colab": {
          "base_uri": "https://localhost:8080/"
        },
        "id": "XgqmLc74ys89",
        "outputId": "0737aff1-6871-4ac1-c495-b7614fa479ad"
      },
      "execution_count": null,
      "outputs": [
        {
          "output_type": "stream",
          "name": "stdout",
          "text": [
            "Requirement already satisfied: langchain in /usr/local/lib/python3.12/dist-packages (0.3.27)\n",
            "Requirement already satisfied: langchain-core<1.0.0,>=0.3.72 in /usr/local/lib/python3.12/dist-packages (from langchain) (0.3.75)\n",
            "Requirement already satisfied: langchain-text-splitters<1.0.0,>=0.3.9 in /usr/local/lib/python3.12/dist-packages (from langchain) (0.3.11)\n",
            "Requirement already satisfied: langsmith>=0.1.17 in /usr/local/lib/python3.12/dist-packages (from langchain) (0.4.24)\n",
            "Requirement already satisfied: pydantic<3.0.0,>=2.7.4 in /usr/local/lib/python3.12/dist-packages (from langchain) (2.11.7)\n",
            "Requirement already satisfied: SQLAlchemy<3,>=1.4 in /usr/local/lib/python3.12/dist-packages (from langchain) (2.0.43)\n",
            "Requirement already satisfied: requests<3,>=2 in /usr/local/lib/python3.12/dist-packages (from langchain) (2.32.4)\n",
            "Requirement already satisfied: PyYAML>=5.3 in /usr/local/lib/python3.12/dist-packages (from langchain) (6.0.2)\n",
            "Requirement already satisfied: tenacity!=8.4.0,<10.0.0,>=8.1.0 in /usr/local/lib/python3.12/dist-packages (from langchain-core<1.0.0,>=0.3.72->langchain) (8.5.0)\n",
            "Requirement already satisfied: jsonpatch<2.0,>=1.33 in /usr/local/lib/python3.12/dist-packages (from langchain-core<1.0.0,>=0.3.72->langchain) (1.33)\n",
            "Requirement already satisfied: typing-extensions>=4.7 in /usr/local/lib/python3.12/dist-packages (from langchain-core<1.0.0,>=0.3.72->langchain) (4.15.0)\n",
            "Requirement already satisfied: packaging>=23.2 in /usr/local/lib/python3.12/dist-packages (from langchain-core<1.0.0,>=0.3.72->langchain) (25.0)\n",
            "Requirement already satisfied: httpx<1,>=0.23.0 in /usr/local/lib/python3.12/dist-packages (from langsmith>=0.1.17->langchain) (0.28.1)\n",
            "Requirement already satisfied: orjson>=3.9.14 in /usr/local/lib/python3.12/dist-packages (from langsmith>=0.1.17->langchain) (3.11.3)\n",
            "Requirement already satisfied: requests-toolbelt>=1.0.0 in /usr/local/lib/python3.12/dist-packages (from langsmith>=0.1.17->langchain) (1.0.0)\n",
            "Requirement already satisfied: zstandard>=0.23.0 in /usr/local/lib/python3.12/dist-packages (from langsmith>=0.1.17->langchain) (0.24.0)\n",
            "Requirement already satisfied: annotated-types>=0.6.0 in /usr/local/lib/python3.12/dist-packages (from pydantic<3.0.0,>=2.7.4->langchain) (0.7.0)\n",
            "Requirement already satisfied: pydantic-core==2.33.2 in /usr/local/lib/python3.12/dist-packages (from pydantic<3.0.0,>=2.7.4->langchain) (2.33.2)\n",
            "Requirement already satisfied: typing-inspection>=0.4.0 in /usr/local/lib/python3.12/dist-packages (from pydantic<3.0.0,>=2.7.4->langchain) (0.4.1)\n",
            "Requirement already satisfied: charset_normalizer<4,>=2 in /usr/local/lib/python3.12/dist-packages (from requests<3,>=2->langchain) (3.4.3)\n",
            "Requirement already satisfied: idna<4,>=2.5 in /usr/local/lib/python3.12/dist-packages (from requests<3,>=2->langchain) (3.10)\n",
            "Requirement already satisfied: urllib3<3,>=1.21.1 in /usr/local/lib/python3.12/dist-packages (from requests<3,>=2->langchain) (2.5.0)\n",
            "Requirement already satisfied: certifi>=2017.4.17 in /usr/local/lib/python3.12/dist-packages (from requests<3,>=2->langchain) (2025.8.3)\n",
            "Requirement already satisfied: greenlet>=1 in /usr/local/lib/python3.12/dist-packages (from SQLAlchemy<3,>=1.4->langchain) (3.2.4)\n",
            "Requirement already satisfied: anyio in /usr/local/lib/python3.12/dist-packages (from httpx<1,>=0.23.0->langsmith>=0.1.17->langchain) (4.10.0)\n",
            "Requirement already satisfied: httpcore==1.* in /usr/local/lib/python3.12/dist-packages (from httpx<1,>=0.23.0->langsmith>=0.1.17->langchain) (1.0.9)\n",
            "Requirement already satisfied: h11>=0.16 in /usr/local/lib/python3.12/dist-packages (from httpcore==1.*->httpx<1,>=0.23.0->langsmith>=0.1.17->langchain) (0.16.0)\n",
            "Requirement already satisfied: jsonpointer>=1.9 in /usr/local/lib/python3.12/dist-packages (from jsonpatch<2.0,>=1.33->langchain-core<1.0.0,>=0.3.72->langchain) (3.0.0)\n",
            "Requirement already satisfied: sniffio>=1.1 in /usr/local/lib/python3.12/dist-packages (from anyio->httpx<1,>=0.23.0->langsmith>=0.1.17->langchain) (1.3.1)\n"
          ]
        }
      ]
    },
    {
      "cell_type": "code",
      "execution_count": null,
      "metadata": {
        "id": "Cix9WAftiinc"
      },
      "outputs": [],
      "source": [
        "from langchain_google_genai import ChatGoogleGenerativeAI\n",
        "\n",
        "# Initialize the ChatGoogleGenerativeAI model with a specific model name, temperature for creativity, and the retrieved API key.\n",
        "llm = ChatGoogleGenerativeAI(model='gemini-2.5-flash-lite', temperature=0.9, api_key=gemini_api_key)"
      ]
    },
    {
      "cell_type": "code",
      "source": [
        "from typing import TypedDict, List\n",
        "\n",
        "# Define a TypedDict class to represent the state of the podcast generation process.\n",
        "# This helps structure the data passed between different nodes in the LangGraph.\n",
        "class PodcastState(TypedDict):\n",
        "  topic: str # The topic of the podcast.\n",
        "  research_material: str # The raw research material gathered for the topic.\n",
        "  key_points: List[str] # A list of key points extracted from the research material.\n",
        "  script: str # The final podcast script generated."
      ],
      "metadata": {
        "id": "jofJ2DppkuFG"
      },
      "execution_count": null,
      "outputs": []
    },
    {
      "cell_type": "code",
      "source": [
        "# Install the tavily-python library, a tool for searching and retrieving information.\n",
        "!pip install tavily-python"
      ],
      "metadata": {
        "colab": {
          "base_uri": "https://localhost:8080/"
        },
        "collapsed": true,
        "id": "s8y1GAdhlH6d",
        "outputId": "0581efc2-f2ce-4181-b4be-391a0dcef847"
      },
      "execution_count": null,
      "outputs": [
        {
          "output_type": "stream",
          "name": "stdout",
          "text": [
            "Collecting tavily-python\n",
            "  Downloading tavily_python-0.7.12-py3-none-any.whl.metadata (7.5 kB)\n",
            "Requirement already satisfied: requests in /usr/local/lib/python3.12/dist-packages (from tavily-python) (2.32.4)\n",
            "Requirement already satisfied: tiktoken>=0.5.1 in /usr/local/lib/python3.12/dist-packages (from tavily-python) (0.11.0)\n",
            "Requirement already satisfied: httpx in /usr/local/lib/python3.12/dist-packages (from tavily-python) (0.28.1)\n",
            "Requirement already satisfied: regex>=2022.1.18 in /usr/local/lib/python3.12/dist-packages (from tiktoken>=0.5.1->tavily-python) (2024.11.6)\n",
            "Requirement already satisfied: charset_normalizer<4,>=2 in /usr/local/lib/python3.12/dist-packages (from requests->tavily-python) (3.4.3)\n",
            "Requirement already satisfied: idna<4,>=2.5 in /usr/local/lib/python3.12/dist-packages (from requests->tavily-python) (3.10)\n",
            "Requirement already satisfied: urllib3<3,>=1.21.1 in /usr/local/lib/python3.12/dist-packages (from requests->tavily-python) (2.5.0)\n",
            "Requirement already satisfied: certifi>=2017.4.17 in /usr/local/lib/python3.12/dist-packages (from requests->tavily-python) (2025.8.3)\n",
            "Requirement already satisfied: anyio in /usr/local/lib/python3.12/dist-packages (from httpx->tavily-python) (4.10.0)\n",
            "Requirement already satisfied: httpcore==1.* in /usr/local/lib/python3.12/dist-packages (from httpx->tavily-python) (1.0.9)\n",
            "Requirement already satisfied: h11>=0.16 in /usr/local/lib/python3.12/dist-packages (from httpcore==1.*->httpx->tavily-python) (0.16.0)\n",
            "Requirement already satisfied: sniffio>=1.1 in /usr/local/lib/python3.12/dist-packages (from anyio->httpx->tavily-python) (1.3.1)\n",
            "Requirement already satisfied: typing_extensions>=4.5 in /usr/local/lib/python3.12/dist-packages (from anyio->httpx->tavily-python) (4.15.0)\n",
            "Downloading tavily_python-0.7.12-py3-none-any.whl (15 kB)\n",
            "Installing collected packages: tavily-python\n",
            "Successfully installed tavily-python-0.7.12\n"
          ]
        }
      ]
    },
    {
      "cell_type": "code",
      "source": [
        "from tavily import TavilyClient\n",
        "# Retrieve the secret key for the Tavily API from Colab's user data secrets.\n",
        "tavily_api_key=userdata.get(\"TAVILY_KEY\")\n",
        "\n",
        "# Initialize the TavilyClient with the retrieved API key.\n",
        "tavily_client = TavilyClient(api_key=tavily_api_key)\n",
        "# Perform a search using the Tavily client for the query \"Who is Leo Messi?\".\n",
        "response = tavily_client.search(\"Who is Leo Messi?\")\n",
        "\n",
        "# Print the search response. The output shows a dictionary containing search results,\n",
        "# including URLs, titles, and content snippets, along with a confidence score for each result.\n",
        "print(response)"
      ],
      "metadata": {
        "colab": {
          "base_uri": "https://localhost:8080/"
        },
        "id": "b2qNH_BvmiUq",
        "outputId": "dc9b0218-d735-4101-ab76-affc1f79d272"
      },
      "execution_count": null,
      "outputs": [
        {
          "output_type": "stream",
          "name": "stdout",
          "text": [
            "{'query': 'Who is Leo Messi?', 'follow_up_questions': None, 'answer': None, 'images': [], 'results': [{'url': 'https://en.wikipedia.org/wiki/Lionel_Messi', 'title': 'Lionel Messi', 'content': \"An Argentine international,Messiis the national team's all-time leading goalscorer and most-capped player. Several years after his senior debut in 2005, he\", 'score': 0.8080827, 'raw_content': None}, {'url': 'https://www.biography.com/athletes/lionel-messi', 'title': 'Lionel Messi: Biography, Soccer Player, Inter Miami CF ...', 'content': 'Lionel Messi, a forward for Inter Miami CF, is one of the world’s greatest soccer players and helped the Argentina national team win its third FIFA World Cup in 2022. Messi, now playing for Inter Miami CF of the MLS, helped his home country win soccer’s biggest event for the first time since 1986, scoring two goals in the final and leading Argentina to a 4-2 win over Kylian Mbappé and France on penalties. Lionel Messi is an Argentinian soccer player who has played for FC Barcelona, Paris Saint-Germain, and currently, the MLS club Inter Miami CF as well as the Argentina national team.', 'score': 0.7777226, 'raw_content': None}, {'url': 'https://www.imdb.com/name/nm2177779/', 'title': 'Lionel Messi', 'content': \"# Lionel Messi Lionel Messi is a football player from Argentina who plays for Inter Miami. He has won the Ballon D'Or, the annual award given to the best player in the world, 8 times, 2022 FIFA World Cup winner and an Olympic gold medal winner in 2008. - View contact info at IMDbPro * Messi * Lionel Messi * Lionel Messi + Lionel Messi + Lionel Messi + Lionel Messi + Messi + Messi + Messi + Lionel Messi + Lionel Messi + Messi * How old is Lionel Messi? * When was Lionel Messi born? * Where was Lionel Messi born? Lionel Messi Messi Keep track of how much of Lionel Messi’s work you have rated. Lionel Messi\", 'score': 0.75268626, 'raw_content': None}, {'url': 'https://www.britannica.com/biography/Lionel-Messi', 'title': \"Lionel Messi | Biography, Trophies, Records, Ballon d'Or ...\", 'content': 'Lionel Messi scored 73 goals during the 2011–12 season while playing for FC Barcelona, breaking\\xa0a 39-year-old record for single-season goals in a major European football league. Messi’s play continued to rapidly improve over the years, and by 2008 he was one of the most dominant players in the world, finishing second to Manchester United’s Cristiano Ronaldo in the voting for the 2008 Ballon d’Or. In early 2009 Messi capped off a spectacular 2008–09 season by helping FC Barcelona capture the club’s first “treble” (winning three major European club titles in one season): the team won the La Liga championship, the Copa del Rey (Spain’s major domestic cup), and the Champions League title.', 'score': 0.5792344, 'raw_content': None}, {'url': 'https://www.olympics.com/en/athletes/lionel-messi', 'title': 'Lionel Messi | Biography, Competitions, Wins and Medals', 'content': 'He was also part of the Argentina under-23 team that won **Olympic gold** at the Beijing 2008 Games, which remains one of his most treasured career highlights. [Football](https://www.olympics.com/en/news/erling-haaland-how-does-the-striker-compare-to-messi-ronaldo-mbappe) [Lionel MESSI](https://www.olympics.com/en/news/fifa-world-cup-2022-lionel-messi-records) [Lionel MESSI](https://www.olympics.com/en/news/lionel-messi-fifa-world-cup-biggest-disappointments) To improve and personalise your experience, and help grow the Olympic Movement, the IOC, the Organising Committees for the Olympic and Paralympic Games and our partners use cookies. The cookies are used (i) by us to measure traffic to our Digital Platforms and for the purpose of personalising services and offering you the most relevant content, and (ii) by us and by our partners to build a profile and to show you and other people relevant adverts and content both on our Digital Platforms as well as on other sites. These cookies are set by social media providers and include cookies that are set by the social media services that we have added to the Digital Platforms.', 'score': 0.5660431, 'raw_content': None}], 'response_time': 1.29, 'request_id': 'ac8781dd-1a3a-4f91-a8b6-32d0baab59cb'}\n"
          ]
        }
      ]
    },
    {
      "cell_type": "code",
      "source": [
        "# Extract the content of the search results from the Tavily response and join them\n",
        "# into a single string with \"---\" as a separator between each content snippet.\n",
        "# The output is a single string containing the concatenated content from the search results.\n",
        "\"\\n\\n---\\n\\n\".join([res[\"content\"] for res in response['results']])"
      ],
      "metadata": {
        "colab": {
          "base_uri": "https://localhost:8080/",
          "height": 127
        },
        "id": "PPPReq2HotBD",
        "outputId": "7b437100-3db2-474f-f128-e50f14d173d3"
      },
      "execution_count": null,
      "outputs": [
        {
          "output_type": "execute_result",
          "data": {
            "text/plain": [
              "\"An Argentine international,Messiis the national team's all-time leading goalscorer and most-capped player. Several years after his senior debut in 2005, he\\n\\n---\\n\\nLionel Messi, a forward for Inter Miami CF, is one of the world’s greatest soccer players and helped the Argentina national team win its third FIFA World Cup in 2022. Messi, now playing for Inter Miami CF of the MLS, helped his home country win soccer’s biggest event for the first time since 1986, scoring two goals in the final and leading Argentina to a 4-2 win over Kylian Mbappé and France on penalties. Lionel Messi is an Argentinian soccer player who has played for FC Barcelona, Paris Saint-Germain, and currently, the MLS club Inter Miami CF as well as the Argentina national team.\\n\\n---\\n\\n# Lionel Messi Lionel Messi is a football player from Argentina who plays for Inter Miami. He has won the Ballon D'Or, the annual award given to the best player in the world, 8 times, 2022 FIFA World Cup winner and an Olympic gold medal winner in 2008. - View contact info at IMDbPro * Messi * Lionel Messi * Lionel Messi + Lionel Messi + Lionel Messi + Lionel Messi + Messi + Messi + Messi + Lionel Messi + Lionel Messi + Messi * How old is Lionel Messi? * When was Lionel Messi born? * Where was Lionel Messi born? Lionel Messi Messi Keep track of how much of Lionel Messi’s work you have rated. Lionel Messi\\n\\n---\\n\\nLionel Messi scored 73 goals during the 2011–12 season while playing for FC Barcelona, breaking\\xa0a 39-year-old record for single-season goals in a major European football league. Messi’s play continued to rapidly improve over the years, and by 2008 he was one of the most dominant players in the world, finishing second to Manchester United’s Cristiano Ronaldo in the voting for the 2008 Ballon d’Or. In early 2009 Messi capped off a spectacular 2008–09 season by helping FC Barcelona capture the club’s first “treble” (winning three major European club titles in one season): the team won the La Liga championship, the Copa del Rey (Spain’s major domestic cup), and the Champions League title.\\n\\n---\\n\\nHe was also part of the Argentina under-23 team that won **Olympic gold** at the Beijing 2008 Games, which remains one of his most treasured career highlights. [Football](https://www.olympics.com/en/news/erling-haaland-how-does-the-striker-compare-to-messi-ronaldo-mbappe) [Lionel MESSI](https://www.olympics.com/en/news/fifa-world-cup-2022-lionel-messi-records) [Lionel MESSI](https://www.olympics.com/en/news/lionel-messi-fifa-world-cup-biggest-disappointments) To improve and personalise your experience, and help grow the Olympic Movement, the IOC, the Organising Committees for the Olympic and Paralympic Games and our partners use cookies. The cookies are used (i) by us to measure traffic to our Digital Platforms and for the purpose of personalising services and offering you the most relevant content, and (ii) by us and by our partners to build a profile and to show you and other people relevant adverts and content both on our Digital Platforms as well as on other sites. These cookies are set by social media providers and include cookies that are set by the social media services that we have added to the Digital Platforms.\""
            ],
            "application/vnd.google.colaboratory.intrinsic+json": {
              "type": "string"
            }
          },
          "metadata": {},
          "execution_count": 7
        }
      ]
    },
    {
      "cell_type": "code",
      "source": [
        "def researcher_node(state: PodcastState)-> dict:\n",
        "  \"\"\"\n",
        "    Researches a topic using Tavily and aggregates the content.\n",
        "\n",
        "    Args:\n",
        "        state (PodcastState): The current state of the graph.\n",
        "          - state['topic']: The topic to research.\n",
        "\n",
        "    Returns:\n",
        "        dict: A dictionary with the updated 'research_material'.\n",
        "          - 'research_material': A string containing the concatenated content from the search results.\n",
        "    \"\"\"\n",
        "  # Use the Tavily client to search for information based on the topic from the state.\n",
        "  results = tavily_client.search(state['topic'])\n",
        "  # Extract the content from the search results and join them into a single string as we did in previous cell.\n",
        "  research_data=\"\\n\\n---\\n\\n\".join([res[\"content\"] for res in results['results']])\n",
        "\n",
        "  # Return the updated state with the research material added.\n",
        "  return {\"research_material\": research_data}"
      ],
      "metadata": {
        "id": "p0ntY0cAnOm7"
      },
      "execution_count": null,
      "outputs": []
    },
    {
      "cell_type": "code",
      "source": [
        "# Import necessary classes for creating chat prompts and parsing string outputs from language models.\n",
        "from langchain_core.prompts import ChatPromptTemplate\n",
        "from langchain_core.output_parsers.string import StrOutputParser"
      ],
      "metadata": {
        "id": "loGucULqNinG"
      },
      "execution_count": null,
      "outputs": []
    },
    {
      "cell_type": "code",
      "source": [
        "def synthesizer_node(state: PodcastState):\n",
        "  \"\"\"\n",
        "  Invokes LLM to give list of key points based on research_material.\n",
        "\n",
        "  Args:\n",
        "        state (PodcastState): The current state of the graph.\n",
        "          - state['research_material']: The research material to synthesize.\n",
        "\n",
        "  Returns:\n",
        "        list of strings\n",
        "          - 'key_points': A list of strings representing the extracted key points.\n",
        "  \"\"\"\n",
        "  # Define a prompt template for the language model to extract key points from the research material.\n",
        "  template = \"\"\"Based on the following research, extract the 5 most important key points.\n",
        "\n",
        "    RESEARCH MATERIAL:\n",
        "    {research_material}\n",
        "\n",
        "    INSTRUCTIONS:\n",
        "    Present the key points as a list, with each point on a new line. Do NOT number them or use bullet points.\n",
        "    \"\"\"\n",
        "  # Create a ChatPromptTemplate from the template string.\n",
        "  prompt = ChatPromptTemplate.from_template(template)\n",
        "  # Create a LangChain chain: prompt -> language model -> string output parser -> split the output by newline.\n",
        "  chain = prompt | llm | StrOutputParser() | (lambda text: text.strip().split('\\n'))\n",
        "  # Invoke the chain with the research material from the state.\n",
        "  response=chain.invoke({\"research_material\": state['research_material']})\n",
        "  # Return the updated state with the extracted key points.\n",
        "  return {\"key_points\": response}"
      ],
      "metadata": {
        "id": "B-nRWFWoszKC"
      },
      "execution_count": null,
      "outputs": []
    },
    {
      "cell_type": "code",
      "source": [
        "def writer_node(state: PodcastState):\n",
        "  \"\"\"\n",
        "  Invokes LLM to create monologue\n",
        "\n",
        "  Args:\n",
        "        state (PodcastState): The current state of the graph.\n",
        "          - state['topic']: The topic of the podcast.\n",
        "          - state['key_points']: The key points to include in the monologue.\n",
        "\n",
        "  Returns:\n",
        "        a monologue (str)\n",
        "          - 'script': A string containing the generated podcast monologue.\n",
        "  \"\"\"\n",
        "  # Format the key points into a string for inclusion in the prompt.\n",
        "  formatted_string = \"\\n- \".join(state['key_points'])\n",
        "  # Define a prompt template for the language model to write a podcast monologue.\n",
        "  template = \"\"\"You are a podcast host. Write an engaging 200-word monologue about '{topic}' based on these key points: {key_points}.\n",
        "              Make it conversational, insightful, and easy for a general audience to understand.\n",
        "              \"\"\"\n",
        "  # Create a ChatPromptTemplate from the template string.\n",
        "  prompt = ChatPromptTemplate.from_template(template)\n",
        "  # Create a LangChain chain: prompt -> language model -> string output parser.\n",
        "  chain = prompt | llm | StrOutputParser()\n",
        "  # Invoke the chain with the topic and formatted key points from the state.\n",
        "  response = chain.invoke(\n",
        "      {\n",
        "          'topic': state['topic'],\n",
        "          'key_points': formatted_string\n",
        "          }\n",
        "      )\n",
        "  # Return the updated state with the generated script.\n",
        "  return {'script': response}"
      ],
      "metadata": {
        "id": "kponEVdRhIl4"
      },
      "execution_count": null,
      "outputs": []
    },
    {
      "cell_type": "code",
      "source": [
        "# Install the langgraph library, which is used for building stateful, multi-actor applications with language models.\n",
        "!pip install langgraph"
      ],
      "metadata": {
        "colab": {
          "base_uri": "https://localhost:8080/"
        },
        "id": "FAmUchFhkoL6",
        "outputId": "14a0d6bd-60ef-417e-d8c8-58d235b97b96"
      },
      "execution_count": null,
      "outputs": [
        {
          "output_type": "stream",
          "name": "stdout",
          "text": [
            "Collecting langgraph\n",
            "  Downloading langgraph-0.6.7-py3-none-any.whl.metadata (6.8 kB)\n",
            "Requirement already satisfied: langchain-core>=0.1 in /usr/local/lib/python3.12/dist-packages (from langgraph) (0.3.75)\n",
            "Collecting langgraph-checkpoint<3.0.0,>=2.1.0 (from langgraph)\n",
            "  Downloading langgraph_checkpoint-2.1.1-py3-none-any.whl.metadata (4.2 kB)\n",
            "Collecting langgraph-prebuilt<0.7.0,>=0.6.0 (from langgraph)\n",
            "  Downloading langgraph_prebuilt-0.6.4-py3-none-any.whl.metadata (4.5 kB)\n",
            "Collecting langgraph-sdk<0.3.0,>=0.2.2 (from langgraph)\n",
            "  Downloading langgraph_sdk-0.2.6-py3-none-any.whl.metadata (1.5 kB)\n",
            "Requirement already satisfied: pydantic>=2.7.4 in /usr/local/lib/python3.12/dist-packages (from langgraph) (2.11.7)\n",
            "Requirement already satisfied: xxhash>=3.5.0 in /usr/local/lib/python3.12/dist-packages (from langgraph) (3.5.0)\n",
            "Requirement already satisfied: langsmith>=0.3.45 in /usr/local/lib/python3.12/dist-packages (from langchain-core>=0.1->langgraph) (0.4.24)\n",
            "Requirement already satisfied: tenacity!=8.4.0,<10.0.0,>=8.1.0 in /usr/local/lib/python3.12/dist-packages (from langchain-core>=0.1->langgraph) (8.5.0)\n",
            "Requirement already satisfied: jsonpatch<2.0,>=1.33 in /usr/local/lib/python3.12/dist-packages (from langchain-core>=0.1->langgraph) (1.33)\n",
            "Requirement already satisfied: PyYAML>=5.3 in /usr/local/lib/python3.12/dist-packages (from langchain-core>=0.1->langgraph) (6.0.2)\n",
            "Requirement already satisfied: typing-extensions>=4.7 in /usr/local/lib/python3.12/dist-packages (from langchain-core>=0.1->langgraph) (4.15.0)\n",
            "Requirement already satisfied: packaging>=23.2 in /usr/local/lib/python3.12/dist-packages (from langchain-core>=0.1->langgraph) (25.0)\n",
            "Collecting ormsgpack>=1.10.0 (from langgraph-checkpoint<3.0.0,>=2.1.0->langgraph)\n",
            "  Downloading ormsgpack-1.10.0-cp312-cp312-manylinux_2_17_x86_64.manylinux2014_x86_64.whl.metadata (43 kB)\n",
            "\u001b[2K     \u001b[90m━━━━━━━━━━━━━━━━━━━━━━━━━━━━━━━━━━━━━━━━\u001b[0m \u001b[32m43.7/43.7 kB\u001b[0m \u001b[31m1.3 MB/s\u001b[0m eta \u001b[36m0:00:00\u001b[0m\n",
            "\u001b[?25hRequirement already satisfied: httpx>=0.25.2 in /usr/local/lib/python3.12/dist-packages (from langgraph-sdk<0.3.0,>=0.2.2->langgraph) (0.28.1)\n",
            "Requirement already satisfied: orjson>=3.10.1 in /usr/local/lib/python3.12/dist-packages (from langgraph-sdk<0.3.0,>=0.2.2->langgraph) (3.11.3)\n",
            "Requirement already satisfied: annotated-types>=0.6.0 in /usr/local/lib/python3.12/dist-packages (from pydantic>=2.7.4->langgraph) (0.7.0)\n",
            "Requirement already satisfied: pydantic-core==2.33.2 in /usr/local/lib/python3.12/dist-packages (from pydantic>=2.7.4->langgraph) (2.33.2)\n",
            "Requirement already satisfied: typing-inspection>=0.4.0 in /usr/local/lib/python3.12/dist-packages (from pydantic>=2.7.4->langgraph) (0.4.1)\n",
            "Requirement already satisfied: anyio in /usr/local/lib/python3.12/dist-packages (from httpx>=0.25.2->langgraph-sdk<0.3.0,>=0.2.2->langgraph) (4.10.0)\n",
            "Requirement already satisfied: certifi in /usr/local/lib/python3.12/dist-packages (from httpx>=0.25.2->langgraph-sdk<0.3.0,>=0.2.2->langgraph) (2025.8.3)\n",
            "Requirement already satisfied: httpcore==1.* in /usr/local/lib/python3.12/dist-packages (from httpx>=0.25.2->langgraph-sdk<0.3.0,>=0.2.2->langgraph) (1.0.9)\n",
            "Requirement already satisfied: idna in /usr/local/lib/python3.12/dist-packages (from httpx>=0.25.2->langgraph-sdk<0.3.0,>=0.2.2->langgraph) (3.10)\n",
            "Requirement already satisfied: h11>=0.16 in /usr/local/lib/python3.12/dist-packages (from httpcore==1.*->httpx>=0.25.2->langgraph-sdk<0.3.0,>=0.2.2->langgraph) (0.16.0)\n",
            "Requirement already satisfied: jsonpointer>=1.9 in /usr/local/lib/python3.12/dist-packages (from jsonpatch<2.0,>=1.33->langchain-core>=0.1->langgraph) (3.0.0)\n",
            "Requirement already satisfied: requests-toolbelt>=1.0.0 in /usr/local/lib/python3.12/dist-packages (from langsmith>=0.3.45->langchain-core>=0.1->langgraph) (1.0.0)\n",
            "Requirement already satisfied: requests>=2.0.0 in /usr/local/lib/python3.12/dist-packages (from langsmith>=0.3.45->langchain-core>=0.1->langgraph) (2.32.4)\n",
            "Requirement already satisfied: zstandard>=0.23.0 in /usr/local/lib/python3.12/dist-packages (from langsmith>=0.3.45->langchain-core>=0.1->langgraph) (0.24.0)\n",
            "Requirement already satisfied: charset_normalizer<4,>=2 in /usr/local/lib/python3.12/dist-packages (from requests>=2.0.0->langsmith>=0.3.45->langchain-core>=0.1->langgraph) (3.4.3)\n",
            "Requirement already satisfied: urllib3<3,>=1.21.1 in /usr/local/lib/python3.12/dist-packages (from requests>=2.0.0->langsmith>=0.3.45->langchain-core>=0.1->langgraph) (2.5.0)\n",
            "Requirement already satisfied: sniffio>=1.1 in /usr/local/lib/python3.12/dist-packages (from anyio->httpx>=0.25.2->langgraph-sdk<0.3.0,>=0.2.2->langgraph) (1.3.1)\n",
            "Downloading langgraph-0.6.7-py3-none-any.whl (153 kB)\n",
            "\u001b[2K   \u001b[90m━━━━━━━━━━━━━━━━━━━━━━━━━━━━━━━━━━━━━━━━\u001b[0m \u001b[32m153.3/153.3 kB\u001b[0m \u001b[31m4.8 MB/s\u001b[0m eta \u001b[36m0:00:00\u001b[0m\n",
            "\u001b[?25hDownloading langgraph_checkpoint-2.1.1-py3-none-any.whl (43 kB)\n",
            "\u001b[2K   \u001b[90m━━━━━━━━━━━━━━━━━━━━━━━━━━━━━━━━━━━━━━━━\u001b[0m \u001b[32m43.9/43.9 kB\u001b[0m \u001b[31m3.2 MB/s\u001b[0m eta \u001b[36m0:00:00\u001b[0m\n",
            "\u001b[?25hDownloading langgraph_prebuilt-0.6.4-py3-none-any.whl (28 kB)\n",
            "Downloading langgraph_sdk-0.2.6-py3-none-any.whl (54 kB)\n",
            "\u001b[2K   \u001b[90m━━━━━━━━━━━━━━━━━━━━━━━━━━━━━━━━━━━━━━━━\u001b[0m \u001b[32m54.6/54.6 kB\u001b[0m \u001b[31m4.7 MB/s\u001b[0m eta \u001b[36m0:00:00\u001b[0m\n",
            "\u001b[?25hDownloading ormsgpack-1.10.0-cp312-cp312-manylinux_2_17_x86_64.manylinux2014_x86_64.whl (216 kB)\n",
            "\u001b[2K   \u001b[90m━━━━━━━━━━━━━━━━━━━━━━━━━━━━━━━━━━━━━━━━\u001b[0m \u001b[32m216.7/216.7 kB\u001b[0m \u001b[31m14.3 MB/s\u001b[0m eta \u001b[36m0:00:00\u001b[0m\n",
            "\u001b[?25hInstalling collected packages: ormsgpack, langgraph-sdk, langgraph-checkpoint, langgraph-prebuilt, langgraph\n",
            "Successfully installed langgraph-0.6.7 langgraph-checkpoint-2.1.1 langgraph-prebuilt-0.6.4 langgraph-sdk-0.2.6 ormsgpack-1.10.0\n"
          ]
        }
      ]
    },
    {
      "cell_type": "code",
      "source": [
        "from langgraph.graph import StateGraph, END, START\n",
        "# Import necessary classes for building a state graph in LangGraph.\n",
        "\n",
        "# Initialize a StateGraph with the defined PodcastState. This graph will manage\n",
        "# the state transitions during the podcast generation process.\n",
        "graph=StateGraph(PodcastState)"
      ],
      "metadata": {
        "id": "hEOJ1C6CkZHj"
      },
      "execution_count": null,
      "outputs": []
    },
    {
      "cell_type": "code",
      "source": [
        "# Add nodes to the state graph, associating each node name ('researcher', 'synthesizer', 'writer')\n",
        "# with its corresponding function.\n",
        "graph.add_node('researcher', researcher_node)\n",
        "graph.add_node('synthesizer', synthesizer_node)\n",
        "graph.add_node('writer', writer_node)\n",
        "\n",
        "# Define the edges of the graph, specifying the flow of execution between nodes.\n",
        "# The process starts at 'researcher', then goes to 'synthesizer', then to 'writer', and finally ends.\n",
        "graph.add_edge(START, 'researcher')\n",
        "graph.add_edge('researcher', 'synthesizer')\n",
        "graph.add_edge('synthesizer', 'writer')\n",
        "\n",
        "# Define the end point of the graph.\n",
        "graph.add_edge('writer', END)\n",
        "\n",
        "# The output shows the StateGraph object, representing the structure of the defined graph."
      ],
      "metadata": {
        "colab": {
          "base_uri": "https://localhost:8080/"
        },
        "id": "B1QzBDqakm7u",
        "outputId": "faba6074-f984-4148-95d1-88ecb27c6199"
      },
      "execution_count": null,
      "outputs": [
        {
          "output_type": "execute_result",
          "data": {
            "text/plain": [
              "<langgraph.graph.state.StateGraph at 0x78ecb5952600>"
            ]
          },
          "metadata": {},
          "execution_count": 38
        }
      ]
    },
    {
      "cell_type": "code",
      "source": [
        "# Compile the state graph into an executable application. This prepares the graph\n",
        "# for invocation.\n",
        "app=graph.compile()"
      ],
      "metadata": {
        "id": "rdr5I-6-lqIt"
      },
      "execution_count": null,
      "outputs": []
    },
    {
      "cell_type": "code",
      "source": [
        "# Display the compiled state graph application.\n",
        "# The output shows a CompiledStateGraph object, indicating that the graph has been compiled successfully.\n",
        "app"
      ],
      "metadata": {
        "colab": {
          "base_uri": "https://localhost:8080/",
          "height": 449
        },
        "id": "QsogD34olspU",
        "outputId": "02cb5361-0062-4fec-c27e-b951b3d464d0"
      },
      "execution_count": null,
      "outputs": [
        {
          "output_type": "execute_result",
          "data": {
            "text/plain": [
              "<langgraph.graph.state.CompiledStateGraph object at 0x78ecb5952c90>"
            ],
            "image/png": "[encoded data removed]"
          },
          "metadata": {},
          "execution_count": 40
        }
      ]
    },
    {
      "cell_type": "code",
      "source": [
        "# Invoke the compiled graph with an initial state containing the topic 'Future of AI'.\n",
        "# This starts the execution of the graph, running through the defined nodes and edges.\n",
        "final_state=app.invoke({'topic': 'Future of AI'})"
      ],
      "metadata": {
        "id": "ciOIhBQDlyn-"
      },
      "execution_count": null,
      "outputs": []
    },
    {
      "cell_type": "code",
      "source": [
        "# Access the 'script' key from the final state of the graph.\n",
        "# The output is the generated podcast monologue script based on the research and synthesis performed by the graph.\n",
        "final_state['script']"
      ],
      "metadata": {
        "colab": {
          "base_uri": "https://localhost:8080/",
          "height": 127
        },
        "id": "_RXXN1GJnG3d",
        "outputId": "374d60fe-135b-40d5-cab1-21e4b435eec2"
      },
      "execution_count": null,
      "outputs": [
        {
          "output_type": "execute_result",
          "data": {
            "text/plain": [
              "'**(Intro Music fades)**\\n\\n**Host:** Hey everyone, and welcome back to \"Future Forward\"! Today, we\\'re diving headfirst into a topic that\\'s buzzing everywhere: the Future of AI. Now, forget the sci-fi robots for a second. In reality, AI is already quietly boosting our productivity and fueling economic growth. Think smarter tools helping us make better decisions, faster.\\n\\nThis isn\\'t just for tech geeks either! AI is set to shake up everything from how doctors diagnose illnesses to how factories churn out goods, and even how we interact with customer service. That means smoother experiences for all of us.\\n\\nThe future of AI development is fascinating. We\\'re seeing massive, open-source models that anyone can play with, alongside incredibly efficient, smaller ones designed for specific tasks. It\\'s a two-pronged approach!\\n\\nBut it’s not all sunshine and rainbows. We need to be real about the challenges: job displacement, those unsettling deepfakes, and the ever-present cyber threats. It’s a delicate balancing act, ensuring we reap the rewards while staying safe.\\n\\nSo, will AI be a gentle evolution or a radical revolution? The answer? It could be both. The impact on our jobs, our markets, and our very society could be profound. Stick around, because we\\'re going to unpack all of this and more!\\n\\n**(Outro Music begins)**'"
            ],
            "application/vnd.google.colaboratory.intrinsic+json": {
              "type": "string"
            }
          },
          "metadata": {},
          "execution_count": 43
        }
      ]
    }
  ]
}